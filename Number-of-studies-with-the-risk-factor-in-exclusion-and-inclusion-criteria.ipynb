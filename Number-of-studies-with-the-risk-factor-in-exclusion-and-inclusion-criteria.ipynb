{
 "cells": [
  {
   "cell_type": "markdown",
   "metadata": {},
   "source": [
    "# Number-of-studies-with-the-risk-factor-in-exclusion-and-inclusion-criteria\n",
    "\n",
    "\n",
    "    - Check 21 Covid-19 risk factors ocurrance in inclusion criteria\n",
    "    - Check 21 Covid-19 risk factors ocurrance in exclusion criteria\n",
    "    - Using parsed results from Facebook Clinical-Trial-Parser"
   ]
  },
  {
   "cell_type": "markdown",
   "metadata": {},
   "source": [
    "## 1. Importing and exploring parsed results "
   ]
  },
  {
   "cell_type": "code",
   "execution_count": 1,
   "metadata": {},
   "outputs": [],
   "source": [
    "import pandas as pd\n",
    "from tqdm.notebook import tqdm, trange\n",
    "import matplotlib.pyplot as plt\n",
    "plt.style.use('fivethirtyeight')"
   ]
  },
  {
   "cell_type": "code",
   "execution_count": 2,
   "metadata": {},
   "outputs": [
    {
     "data": {
      "text/plain": [
       "(23984, 9)"
      ]
     },
     "execution_count": 2,
     "metadata": {},
     "output_type": "execute_result"
    }
   ],
   "source": [
    "df = pd.read_csv('./ie_parsed_clinical_trials.tsv',sep='\\t')\n",
    "df.shape"
   ]
  },
  {
   "cell_type": "code",
   "execution_count": 3,
   "metadata": {},
   "outputs": [
    {
     "data": {
      "text/plain": [
       "1833"
      ]
     },
     "execution_count": 3,
     "metadata": {},
     "output_type": "execute_result"
    }
   ],
   "source": [
    "df['#nct_id'].nunique()"
   ]
  },
  {
   "cell_type": "code",
   "execution_count": 4,
   "metadata": {},
   "outputs": [
    {
     "data": {
      "text/html": [
       "<div>\n",
       "<style scoped>\n",
       "    .dataframe tbody tr th:only-of-type {\n",
       "        vertical-align: middle;\n",
       "    }\n",
       "\n",
       "    .dataframe tbody tr th {\n",
       "        vertical-align: top;\n",
       "    }\n",
       "\n",
       "    .dataframe thead th {\n",
       "        text-align: right;\n",
       "    }\n",
       "</style>\n",
       "<table border=\"1\" class=\"dataframe\">\n",
       "  <thead>\n",
       "    <tr style=\"text-align: right;\">\n",
       "      <th></th>\n",
       "      <th>#nct_id</th>\n",
       "      <th>eligibility_type</th>\n",
       "      <th>criterion</th>\n",
       "      <th>label</th>\n",
       "      <th>term</th>\n",
       "      <th>ner_score</th>\n",
       "      <th>concepts</th>\n",
       "      <th>tree_numbers</th>\n",
       "      <th>nel_score</th>\n",
       "    </tr>\n",
       "  </thead>\n",
       "  <tbody>\n",
       "    <tr>\n",
       "      <th>0</th>\n",
       "      <td>NCT01306084</td>\n",
       "      <td>inclusion</td>\n",
       "      <td>Must have (or be suspected of having) a viral ...</td>\n",
       "      <td>word_scores:chronic_disease</td>\n",
       "      <td>viral infection</td>\n",
       "      <td>0.781</td>\n",
       "      <td>Virus Diseases</td>\n",
       "      <td>C01.925</td>\n",
       "      <td>1.0</td>\n",
       "    </tr>\n",
       "    <tr>\n",
       "      <th>1</th>\n",
       "      <td>NCT01306084</td>\n",
       "      <td>exclusion</td>\n",
       "      <td>Patients who are unable to safely undergo stud...</td>\n",
       "      <td>word_scores:treatment</td>\n",
       "      <td>study procedures</td>\n",
       "      <td>0.764</td>\n",
       "      <td>NaN</td>\n",
       "      <td>NaN</td>\n",
       "      <td>NaN</td>\n",
       "    </tr>\n",
       "  </tbody>\n",
       "</table>\n",
       "</div>"
      ],
      "text/plain": [
       "       #nct_id eligibility_type  \\\n",
       "0  NCT01306084        inclusion   \n",
       "1  NCT01306084        exclusion   \n",
       "\n",
       "                                           criterion  \\\n",
       "0  Must have (or be suspected of having) a viral ...   \n",
       "1  Patients who are unable to safely undergo stud...   \n",
       "\n",
       "                         label              term  ner_score        concepts  \\\n",
       "0  word_scores:chronic_disease   viral infection      0.781  Virus Diseases   \n",
       "1        word_scores:treatment  study procedures      0.764             NaN   \n",
       "\n",
       "  tree_numbers  nel_score  \n",
       "0      C01.925        1.0  \n",
       "1          NaN        NaN  "
      ]
     },
     "execution_count": 4,
     "metadata": {},
     "output_type": "execute_result"
    }
   ],
   "source": [
    "df.head(2)"
   ]
  },
  {
   "cell_type": "code",
   "execution_count": 5,
   "metadata": {},
   "outputs": [],
   "source": [
    "df = df.drop_duplicates(subset=['#nct_id', 'eligibility_type', 'concepts']).dropna(subset=['concepts']).reset_index(drop=True)"
   ]
  },
  {
   "cell_type": "code",
   "execution_count": 6,
   "metadata": {},
   "outputs": [
    {
     "data": {
      "text/plain": [
       "(13180, 9)"
      ]
     },
     "execution_count": 6,
     "metadata": {},
     "output_type": "execute_result"
    }
   ],
   "source": [
    "df.shape"
   ]
  },
  {
   "cell_type": "markdown",
   "metadata": {},
   "source": [
    "## 2. Combining some concepts"
   ]
  },
  {
   "cell_type": "markdown",
   "metadata": {},
   "source": [
    "Combine MEN"
   ]
  },
  {
   "cell_type": "code",
   "execution_count": 7,
   "metadata": {},
   "outputs": [],
   "source": [
    "df.concepts = df.concepts.replace('Men|Multiple Endocrine Neoplasia Type 2a|Multiple Endocrine Neoplasia Type 2b','Men')"
   ]
  },
  {
   "cell_type": "markdown",
   "metadata": {},
   "source": [
    "Combine Pregnancy"
   ]
  },
  {
   "cell_type": "code",
   "execution_count": 8,
   "metadata": {},
   "outputs": [
    {
     "data": {
      "text/plain": [
       "Pregnancy                          773\n",
       "Pregnancy Tests                    126\n",
       "Pregnancy, Unplanned                 3\n",
       "Pregnancy, Multiple                  1\n",
       "Hypertension, Pregnancy-Induced      1\n",
       "Name: concepts, dtype: int64"
      ]
     },
     "execution_count": 8,
     "metadata": {},
     "output_type": "execute_result"
    }
   ],
   "source": [
    "df[df.concepts.str.contains('Pregnancy')].concepts.value_counts()"
   ]
  },
  {
   "cell_type": "code",
   "execution_count": 9,
   "metadata": {},
   "outputs": [],
   "source": [
    "df.concepts = df.concepts.replace('Pregnancy, Unplanned','Pregnancy')\n",
    "df.concepts = df.concepts.replace('Pregnancy, Multiple','Pregnancy')"
   ]
  },
  {
   "cell_type": "code",
   "execution_count": 10,
   "metadata": {},
   "outputs": [
    {
     "data": {
      "text/plain": [
       "Pregnancy                          777\n",
       "Pregnancy Tests                    126\n",
       "Hypertension, Pregnancy-Induced      1\n",
       "Name: concepts, dtype: int64"
      ]
     },
     "execution_count": 10,
     "metadata": {},
     "output_type": "execute_result"
    }
   ],
   "source": [
    "df[df.concepts.str.contains('Pregnancy')].concepts.value_counts()"
   ]
  },
  {
   "cell_type": "markdown",
   "metadata": {},
   "source": [
    "Combine Diabetes"
   ]
  },
  {
   "cell_type": "code",
   "execution_count": 11,
   "metadata": {},
   "outputs": [
    {
     "data": {
      "text/plain": [
       "Diabetes Mellitus                                      101\n",
       "Diabetes Mellitus, Type 1|Diabetes Mellitus, Type 2     14\n",
       "Diabetes Mellitus, Type 1                                4\n",
       "Diabetes Mellitus, Type 2                                2\n",
       "Diabetes Insipidus                                       1\n",
       "Name: concepts, dtype: int64"
      ]
     },
     "execution_count": 11,
     "metadata": {},
     "output_type": "execute_result"
    }
   ],
   "source": [
    "df[df.concepts.str.contains('Diabetes')].concepts.value_counts()"
   ]
  },
  {
   "cell_type": "code",
   "execution_count": 12,
   "metadata": {},
   "outputs": [],
   "source": [
    "df.concepts = df.concepts.replace('.*Diabetes.*','Diabetes',regex=True)"
   ]
  },
  {
   "cell_type": "code",
   "execution_count": 13,
   "metadata": {},
   "outputs": [
    {
     "data": {
      "text/plain": [
       "Diabetes    122\n",
       "Name: concepts, dtype: int64"
      ]
     },
     "execution_count": 13,
     "metadata": {},
     "output_type": "execute_result"
    }
   ],
   "source": [
    "df[df.concepts.str.contains('Diabetes')].concepts.value_counts()"
   ]
  },
  {
   "cell_type": "markdown",
   "metadata": {},
   "source": [
    "Combine hypertension"
   ]
  },
  {
   "cell_type": "code",
   "execution_count": 14,
   "metadata": {
    "scrolled": true
   },
   "outputs": [
    {
     "data": {
      "text/plain": [
       "Hypertension                                                                                                             79\n",
       "Hypertension, Pulmonary                                                                                                  18\n",
       "Hypertension, Portal                                                                                                      6\n",
       "Intracranial Hypertension                                                                                                 3\n",
       "Familial Primary Pulmonary Hypertension|Idiopathic Pulmonary Arterial Hypertension|Pulmonary Hypertension, Primary, 1     2\n",
       "Hypertension, Pregnancy-Induced                                                                                           1\n",
       "Hypertension, Malignant                                                                                                   1\n",
       "Name: concepts, dtype: int64"
      ]
     },
     "execution_count": 14,
     "metadata": {},
     "output_type": "execute_result"
    }
   ],
   "source": [
    "df[df.concepts.str.contains('Hypertension')].concepts.value_counts()"
   ]
  },
  {
   "cell_type": "code",
   "execution_count": 15,
   "metadata": {},
   "outputs": [],
   "source": [
    "df.concepts = df.concepts.str.replace('.*Hypertension.*','Hypertension',regex=True)"
   ]
  },
  {
   "cell_type": "code",
   "execution_count": 16,
   "metadata": {},
   "outputs": [
    {
     "data": {
      "text/plain": [
       "Hypertension    110\n",
       "Name: concepts, dtype: int64"
      ]
     },
     "execution_count": 16,
     "metadata": {},
     "output_type": "execute_result"
    }
   ],
   "source": [
    "df[df.concepts.str.contains('Hypertension')].concepts.value_counts()"
   ]
  },
  {
   "cell_type": "markdown",
   "metadata": {},
   "source": [
    "Combine Liver disease"
   ]
  },
  {
   "cell_type": "code",
   "execution_count": 17,
   "metadata": {},
   "outputs": [
    {
     "data": {
      "text/plain": [
       "Liver Diseases               70\n",
       "Liver Diseases, Alcoholic     1\n",
       "Name: concepts, dtype: int64"
      ]
     },
     "execution_count": 17,
     "metadata": {},
     "output_type": "execute_result"
    }
   ],
   "source": [
    "df[df.concepts.str.contains('Liver Diseases')].concepts.value_counts()"
   ]
  },
  {
   "cell_type": "code",
   "execution_count": 18,
   "metadata": {},
   "outputs": [],
   "source": [
    "df.concepts = df.concepts.str.replace('.*Liver Diseases.*','Liver Diseases',regex=True)"
   ]
  },
  {
   "cell_type": "code",
   "execution_count": 19,
   "metadata": {},
   "outputs": [
    {
     "data": {
      "text/plain": [
       "Liver Diseases    71\n",
       "Name: concepts, dtype: int64"
      ]
     },
     "execution_count": 19,
     "metadata": {},
     "output_type": "execute_result"
    }
   ],
   "source": [
    "df[df.concepts.str.contains('Liver Diseases')].concepts.value_counts()"
   ]
  },
  {
   "cell_type": "markdown",
   "metadata": {},
   "source": [
    "Combine CKD"
   ]
  },
  {
   "cell_type": "code",
   "execution_count": 20,
   "metadata": {},
   "outputs": [],
   "source": [
    "df.concepts = df.concepts.str.replace('Renal Insufficiency, Chronic','Chronic Kidney Diseases',regex=False)"
   ]
  },
  {
   "cell_type": "code",
   "execution_count": 21,
   "metadata": {},
   "outputs": [
    {
     "data": {
      "text/plain": [
       "Chronic Kidney Diseases    86\n",
       "Name: concepts, dtype: int64"
      ]
     },
     "execution_count": 21,
     "metadata": {},
     "output_type": "execute_result"
    }
   ],
   "source": [
    "df[df.concepts.str.contains('Chronic Kidney Diseases')].concepts.value_counts()"
   ]
  },
  {
   "cell_type": "markdown",
   "metadata": {},
   "source": [
    "Combine Obesity"
   ]
  },
  {
   "cell_type": "code",
   "execution_count": 22,
   "metadata": {},
   "outputs": [
    {
     "data": {
      "text/plain": [
       "Obesity|Obesity Management|Obesity, Morbid    32\n",
       "Obesity, Morbid                                5\n",
       "Name: concepts, dtype: int64"
      ]
     },
     "execution_count": 22,
     "metadata": {},
     "output_type": "execute_result"
    }
   ],
   "source": [
    "df[df.concepts.str.contains('Obesity')].concepts.value_counts()"
   ]
  },
  {
   "cell_type": "code",
   "execution_count": 23,
   "metadata": {},
   "outputs": [],
   "source": [
    "df.concepts = df.concepts.str.replace('.*Obesity.*','Obesity',regex=True)"
   ]
  },
  {
   "cell_type": "code",
   "execution_count": 24,
   "metadata": {},
   "outputs": [
    {
     "data": {
      "text/plain": [
       "Obesity    37\n",
       "Name: concepts, dtype: int64"
      ]
     },
     "execution_count": 24,
     "metadata": {},
     "output_type": "execute_result"
    }
   ],
   "source": [
    "df[df.concepts.str.contains('Obesity')].concepts.value_counts()"
   ]
  },
  {
   "cell_type": "markdown",
   "metadata": {},
   "source": [
    "Combine serious heart condition"
   ]
  },
  {
   "cell_type": "code",
   "execution_count": 25,
   "metadata": {},
   "outputs": [
    {
     "data": {
      "text/plain": [
       "Heart Failure               77\n",
       "Congestive Heart Failure    43\n",
       "Heart Failure, Systolic      2\n",
       "Name: concepts, dtype: int64"
      ]
     },
     "execution_count": 25,
     "metadata": {},
     "output_type": "execute_result"
    }
   ],
   "source": [
    "df[df.concepts.str.contains('Heart Failure')].concepts.value_counts()"
   ]
  },
  {
   "cell_type": "code",
   "execution_count": 26,
   "metadata": {},
   "outputs": [
    {
     "data": {
      "text/plain": [
       "Coronary Artery Disease    20\n",
       "Name: concepts, dtype: int64"
      ]
     },
     "execution_count": 26,
     "metadata": {},
     "output_type": "execute_result"
    }
   ],
   "source": [
    "df[df.concepts.str.contains('Coronary Artery Disease')].concepts.value_counts()"
   ]
  },
  {
   "cell_type": "code",
   "execution_count": 27,
   "metadata": {},
   "outputs": [
    {
     "data": {
      "text/plain": [
       "Cardiomyopathies    11\n",
       "Name: concepts, dtype: int64"
      ]
     },
     "execution_count": 27,
     "metadata": {},
     "output_type": "execute_result"
    }
   ],
   "source": [
    "df[df.concepts.str.contains('Cardiomyopathies')].concepts.value_counts()"
   ]
  },
  {
   "cell_type": "code",
   "execution_count": 28,
   "metadata": {},
   "outputs": [],
   "source": [
    "df.concepts = df.concepts.str.replace('.*Heart Failure.*','Serious Heart Condition',regex=True)"
   ]
  },
  {
   "cell_type": "code",
   "execution_count": 29,
   "metadata": {},
   "outputs": [],
   "source": [
    "df.concepts = df.concepts.str.replace('Coronary Artery Disease','Serious Heart Condition',regex=False)"
   ]
  },
  {
   "cell_type": "code",
   "execution_count": 30,
   "metadata": {},
   "outputs": [],
   "source": [
    "df.concepts = df.concepts.str.replace('Cardiomyopathies','Serious Heart Condition',regex=False)"
   ]
  },
  {
   "cell_type": "code",
   "execution_count": 31,
   "metadata": {},
   "outputs": [
    {
     "data": {
      "text/plain": [
       "Serious Heart Condition    153\n",
       "Name: concepts, dtype: int64"
      ]
     },
     "execution_count": 31,
     "metadata": {},
     "output_type": "execute_result"
    }
   ],
   "source": [
    "df[df.concepts.str.contains('Serious Heart Condition')].concepts.value_counts()"
   ]
  },
  {
   "cell_type": "markdown",
   "metadata": {},
   "source": [
    "Combine Cerebrovascular Disorder"
   ]
  },
  {
   "cell_type": "code",
   "execution_count": 32,
   "metadata": {},
   "outputs": [
    {
     "data": {
      "text/plain": [
       "Cerebrovascular Disorders    7\n",
       "Name: concepts, dtype: int64"
      ]
     },
     "execution_count": 32,
     "metadata": {},
     "output_type": "execute_result"
    }
   ],
   "source": [
    "df[df.concepts.str.contains('Cerebrovascular Disorders')].concepts.value_counts()"
   ]
  },
  {
   "cell_type": "code",
   "execution_count": 33,
   "metadata": {},
   "outputs": [
    {
     "data": {
      "text/plain": [
       "Stroke           50\n",
       "Stroke, Acute     7\n",
       "Name: concepts, dtype: int64"
      ]
     },
     "execution_count": 33,
     "metadata": {},
     "output_type": "execute_result"
    }
   ],
   "source": [
    "df[df.concepts.str.contains('Stroke')].concepts.value_counts()"
   ]
  },
  {
   "cell_type": "code",
   "execution_count": 34,
   "metadata": {},
   "outputs": [],
   "source": [
    "df.concepts = df.concepts.str.replace('.*Stroke.*','Cerebrovascular Disorders',regex=True)"
   ]
  },
  {
   "cell_type": "code",
   "execution_count": 35,
   "metadata": {},
   "outputs": [
    {
     "data": {
      "text/plain": [
       "Cerebrovascular Disorders    64\n",
       "Name: concepts, dtype: int64"
      ]
     },
     "execution_count": 35,
     "metadata": {},
     "output_type": "execute_result"
    }
   ],
   "source": [
    "df[df.concepts.str.contains('Cerebrovascular Disorders')].concepts.value_counts()"
   ]
  },
  {
   "cell_type": "markdown",
   "metadata": {},
   "source": [
    "Weak immune 2"
   ]
  },
  {
   "cell_type": "code",
   "execution_count": 36,
   "metadata": {},
   "outputs": [],
   "source": [
    "df.concepts = df.concepts.str.replace('Bone Marrow Transplantation','Weak_immune_2',regex=False)"
   ]
  },
  {
   "cell_type": "code",
   "execution_count": 37,
   "metadata": {},
   "outputs": [
    {
     "data": {
      "text/plain": [
       "Weak_immune_2    23\n",
       "Name: concepts, dtype: int64"
      ]
     },
     "execution_count": 37,
     "metadata": {},
     "output_type": "execute_result"
    }
   ],
   "source": [
    "df[df.concepts.str.contains('Weak_immune_2')].concepts.value_counts()"
   ]
  },
  {
   "cell_type": "markdown",
   "metadata": {},
   "source": [
    "Sickle_cell_disease\n"
   ]
  },
  {
   "cell_type": "code",
   "execution_count": 38,
   "metadata": {},
   "outputs": [
    {
     "data": {
      "text/plain": [
       "Anemia                 13\n",
       "Anemia, Sickle Cell    12\n",
       "Anemia, Aplastic        2\n",
       "Fanconi Anemia          1\n",
       "Anemia, Hemolytic       1\n",
       "Name: concepts, dtype: int64"
      ]
     },
     "execution_count": 38,
     "metadata": {},
     "output_type": "execute_result"
    }
   ],
   "source": [
    "df[df.concepts.str.contains('Anemia')].concepts.value_counts()"
   ]
  },
  {
   "cell_type": "code",
   "execution_count": 39,
   "metadata": {},
   "outputs": [],
   "source": [
    "df.concepts = df.concepts.str.replace('.*Anemia.*','Sickle Cell Diseases',regex=True)"
   ]
  },
  {
   "cell_type": "code",
   "execution_count": 40,
   "metadata": {},
   "outputs": [
    {
     "data": {
      "text/plain": [
       "Sickle Cell Diseases    29\n",
       "Name: concepts, dtype: int64"
      ]
     },
     "execution_count": 40,
     "metadata": {},
     "output_type": "execute_result"
    }
   ],
   "source": [
    "df[df.concepts.str.contains('Sickle Cell Diseases')].concepts.value_counts()"
   ]
  },
  {
   "cell_type": "markdown",
   "metadata": {},
   "source": [
    "Asthma"
   ]
  },
  {
   "cell_type": "code",
   "execution_count": 41,
   "metadata": {},
   "outputs": [
    {
     "data": {
      "text/plain": [
       "Asthma                      65\n",
       "Asthma, Exercise-Induced     2\n",
       "Name: concepts, dtype: int64"
      ]
     },
     "execution_count": 41,
     "metadata": {},
     "output_type": "execute_result"
    }
   ],
   "source": [
    "df[df.concepts.str.contains('Asthma')].concepts.value_counts()"
   ]
  },
  {
   "cell_type": "code",
   "execution_count": 42,
   "metadata": {},
   "outputs": [],
   "source": [
    "df.concepts = df.concepts.str.replace('.*Asthma.*','Asthma',regex=True)"
   ]
  },
  {
   "cell_type": "code",
   "execution_count": 43,
   "metadata": {},
   "outputs": [
    {
     "data": {
      "text/plain": [
       "Asthma    67\n",
       "Name: concepts, dtype: int64"
      ]
     },
     "execution_count": 43,
     "metadata": {},
     "output_type": "execute_result"
    }
   ],
   "source": [
    "df[df.concepts.str.contains('Asthma')].concepts.value_counts()"
   ]
  },
  {
   "cell_type": "markdown",
   "metadata": {},
   "source": [
    "Weak immune 1"
   ]
  },
  {
   "cell_type": "code",
   "execution_count": 44,
   "metadata": {},
   "outputs": [
    {
     "data": {
      "text/plain": [
       "Organ Transplantation    5\n",
       "Name: concepts, dtype: int64"
      ]
     },
     "execution_count": 44,
     "metadata": {},
     "output_type": "execute_result"
    }
   ],
   "source": [
    "df[df.concepts.str.contains('Organ Transplantation')].concepts.value_counts()"
   ]
  },
  {
   "cell_type": "code",
   "execution_count": 45,
   "metadata": {},
   "outputs": [],
   "source": [
    "df.concepts = df.concepts.str.replace('.*Organ Transplantation.*','Weak_immune_1',regex=True)"
   ]
  },
  {
   "cell_type": "code",
   "execution_count": 46,
   "metadata": {},
   "outputs": [
    {
     "data": {
      "text/plain": [
       "Weak_immune_1    5\n",
       "Name: concepts, dtype: int64"
      ]
     },
     "execution_count": 46,
     "metadata": {},
     "output_type": "execute_result"
    }
   ],
   "source": [
    "df[df.concepts.str.contains('Weak_immune_1')].concepts.value_counts()"
   ]
  },
  {
   "cell_type": "markdown",
   "metadata": {},
   "source": [
    "Neurological_disorder"
   ]
  },
  {
   "cell_type": "code",
   "execution_count": 47,
   "metadata": {},
   "outputs": [
    {
     "data": {
      "text/plain": [
       "Dementia    19\n",
       "Name: concepts, dtype: int64"
      ]
     },
     "execution_count": 47,
     "metadata": {},
     "output_type": "execute_result"
    }
   ],
   "source": [
    "df[df.concepts.str.contains('Dementia')].concepts.value_counts()"
   ]
  },
  {
   "cell_type": "code",
   "execution_count": 48,
   "metadata": {},
   "outputs": [],
   "source": [
    "df.concepts = df.concepts.str.replace('.*Dementia.*','Neurological Disorder',regex=True)"
   ]
  },
  {
   "cell_type": "code",
   "execution_count": 49,
   "metadata": {},
   "outputs": [
    {
     "data": {
      "text/plain": [
       "Neurological Disorder    19\n",
       "Name: concepts, dtype: int64"
      ]
     },
     "execution_count": 49,
     "metadata": {},
     "output_type": "execute_result"
    }
   ],
   "source": [
    "df[df.concepts.str.contains('Neurological Disorder')].concepts.value_counts()"
   ]
  },
  {
   "cell_type": "markdown",
   "metadata": {},
   "source": [
    "Thalassemia"
   ]
  },
  {
   "cell_type": "code",
   "execution_count": 50,
   "metadata": {},
   "outputs": [
    {
     "data": {
      "text/plain": [
       "beta-Thalassemia     1\n",
       "Thalassemia          1\n",
       "alpha-Thalassemia    1\n",
       "Name: concepts, dtype: int64"
      ]
     },
     "execution_count": 50,
     "metadata": {},
     "output_type": "execute_result"
    }
   ],
   "source": [
    "df[df.concepts.str.contains('Thalassemia')].concepts.value_counts()"
   ]
  },
  {
   "cell_type": "code",
   "execution_count": 51,
   "metadata": {},
   "outputs": [],
   "source": [
    "df.concepts = df.concepts.str.replace('.*Thalassemia.*','Thalassemia',regex=True)"
   ]
  },
  {
   "cell_type": "code",
   "execution_count": 52,
   "metadata": {},
   "outputs": [
    {
     "data": {
      "text/plain": [
       "Thalassemia    3\n",
       "Name: concepts, dtype: int64"
      ]
     },
     "execution_count": 52,
     "metadata": {},
     "output_type": "execute_result"
    }
   ],
   "source": [
    "df[df.concepts.str.contains('Thalassemia')].concepts.value_counts()"
   ]
  },
  {
   "cell_type": "markdown",
   "metadata": {},
   "source": [
    "COPD"
   ]
  },
  {
   "cell_type": "code",
   "execution_count": 53,
   "metadata": {},
   "outputs": [
    {
     "data": {
      "text/plain": [
       "Pulmonary Disease, Chronic Obstructive    81\n",
       "Name: concepts, dtype: int64"
      ]
     },
     "execution_count": 53,
     "metadata": {},
     "output_type": "execute_result"
    }
   ],
   "source": [
    "df[df.concepts.str.contains('Pulmonary Disease, Chronic Obstructive')].concepts.value_counts()"
   ]
  },
  {
   "cell_type": "code",
   "execution_count": 54,
   "metadata": {},
   "outputs": [],
   "source": [
    "df.concepts = df.concepts.str.replace('Pulmonary Disease, Chronic Obstructive','COPD',regex=True)"
   ]
  },
  {
   "cell_type": "code",
   "execution_count": 55,
   "metadata": {},
   "outputs": [
    {
     "data": {
      "text/plain": [
       "COPD    81\n",
       "Name: concepts, dtype: int64"
      ]
     },
     "execution_count": 55,
     "metadata": {},
     "output_type": "execute_result"
    }
   ],
   "source": [
    "df[df.concepts.str.contains('COPD')].concepts.value_counts()"
   ]
  },
  {
   "cell_type": "markdown",
   "metadata": {},
   "source": [
    "Pulmonary Fibrosis"
   ]
  },
  {
   "cell_type": "code",
   "execution_count": 56,
   "metadata": {},
   "outputs": [
    {
     "data": {
      "text/plain": [
       "Pulmonary Fibrosis               10\n",
       "Idiopathic Pulmonary Fibrosis     5\n",
       "Name: concepts, dtype: int64"
      ]
     },
     "execution_count": 56,
     "metadata": {},
     "output_type": "execute_result"
    }
   ],
   "source": [
    "df[df.concepts.str.contains('Pulmonary Fibrosis')].concepts.value_counts()"
   ]
  },
  {
   "cell_type": "code",
   "execution_count": 57,
   "metadata": {},
   "outputs": [],
   "source": [
    "df.concepts = df.concepts.str.replace('.*Pulmonary Fibrosis.*','Pulmonary Fibrosis',regex=True)"
   ]
  },
  {
   "cell_type": "code",
   "execution_count": 58,
   "metadata": {},
   "outputs": [
    {
     "data": {
      "text/plain": [
       "Pulmonary Fibrosis    15\n",
       "Name: concepts, dtype: int64"
      ]
     },
     "execution_count": 58,
     "metadata": {},
     "output_type": "execute_result"
    }
   ],
   "source": [
    "df[df.concepts.str.contains('Pulmonary Fibrosis')].concepts.value_counts()"
   ]
  },
  {
   "cell_type": "markdown",
   "metadata": {},
   "source": [
    "## 3. Spliting inclusion and exclusion criteria"
   ]
  },
  {
   "cell_type": "code",
   "execution_count": 59,
   "metadata": {},
   "outputs": [],
   "source": [
    "# Inclusion criteria\n",
    "df11 = df[df.eligibility_type == 'inclusion'].reset_index(drop=True)\n",
    "# Exclusion criteria\n",
    "df12 = df[df.eligibility_type == 'exclusion'].reset_index(drop=True)"
   ]
  },
  {
   "cell_type": "code",
   "execution_count": 60,
   "metadata": {},
   "outputs": [
    {
     "data": {
      "text/plain": [
       "(9480, 9)"
      ]
     },
     "execution_count": 60,
     "metadata": {},
     "output_type": "execute_result"
    }
   ],
   "source": [
    "df12.shape"
   ]
  },
  {
   "cell_type": "code",
   "execution_count": 61,
   "metadata": {},
   "outputs": [
    {
     "data": {
      "text/plain": [
       "1329"
      ]
     },
     "execution_count": 61,
     "metadata": {},
     "output_type": "execute_result"
    }
   ],
   "source": [
    "df12['#nct_id'].nunique()"
   ]
  },
  {
   "cell_type": "code",
   "execution_count": 62,
   "metadata": {},
   "outputs": [
    {
     "data": {
      "text/html": [
       "<div>\n",
       "<style scoped>\n",
       "    .dataframe tbody tr th:only-of-type {\n",
       "        vertical-align: middle;\n",
       "    }\n",
       "\n",
       "    .dataframe tbody tr th {\n",
       "        vertical-align: top;\n",
       "    }\n",
       "\n",
       "    .dataframe thead th {\n",
       "        text-align: right;\n",
       "    }\n",
       "</style>\n",
       "<table border=\"1\" class=\"dataframe\">\n",
       "  <thead>\n",
       "    <tr style=\"text-align: right;\">\n",
       "      <th></th>\n",
       "      <th>#nct_id</th>\n",
       "      <th>eligibility_type</th>\n",
       "      <th>criterion</th>\n",
       "      <th>label</th>\n",
       "      <th>term</th>\n",
       "      <th>ner_score</th>\n",
       "      <th>concepts</th>\n",
       "      <th>tree_numbers</th>\n",
       "      <th>nel_score</th>\n",
       "    </tr>\n",
       "  </thead>\n",
       "  <tbody>\n",
       "    <tr>\n",
       "      <th>0</th>\n",
       "      <td>NCT01306084</td>\n",
       "      <td>exclusion</td>\n",
       "      <td>Pregnant Women</td>\n",
       "      <td>word_scores:pregnancy</td>\n",
       "      <td>pregnant women</td>\n",
       "      <td>1.000</td>\n",
       "      <td>Pregnant Women</td>\n",
       "      <td>M01.975.807</td>\n",
       "      <td>1.0</td>\n",
       "    </tr>\n",
       "    <tr>\n",
       "      <th>1</th>\n",
       "      <td>NCT02735707</td>\n",
       "      <td>exclusion</td>\n",
       "      <td>Healthcare-associated pneumonia</td>\n",
       "      <td>word_scores:chronic_disease</td>\n",
       "      <td>healthcare-associated pneumonia</td>\n",
       "      <td>0.955</td>\n",
       "      <td>Healthcare-Associated Pneumonia</td>\n",
       "      <td>C01.248.250|C01.748.610.300|C08.381.677.300|C0...</td>\n",
       "      <td>1.0</td>\n",
       "    </tr>\n",
       "    <tr>\n",
       "      <th>2</th>\n",
       "      <td>NCT02735707</td>\n",
       "      <td>exclusion</td>\n",
       "      <td>Death is deemed to be imminent and inevitable ...</td>\n",
       "      <td>word_scores:treatment</td>\n",
       "      <td>treatment</td>\n",
       "      <td>0.841</td>\n",
       "      <td>Therapeutics</td>\n",
       "      <td>E02</td>\n",
       "      <td>1.0</td>\n",
       "    </tr>\n",
       "    <tr>\n",
       "      <th>3</th>\n",
       "      <td>NCT02765191</td>\n",
       "      <td>exclusion</td>\n",
       "      <td>Pregnancy</td>\n",
       "      <td>word_scores:pregnancy</td>\n",
       "      <td>pregnancy</td>\n",
       "      <td>0.999</td>\n",
       "      <td>Pregnancy</td>\n",
       "      <td>G08.686.784.769</td>\n",
       "      <td>1.0</td>\n",
       "    </tr>\n",
       "    <tr>\n",
       "      <th>4</th>\n",
       "      <td>NCT02765191</td>\n",
       "      <td>exclusion</td>\n",
       "      <td>Chronic kidney failure</td>\n",
       "      <td>word_scores:chronic_disease</td>\n",
       "      <td>chronic kidney failure</td>\n",
       "      <td>0.985</td>\n",
       "      <td>Kidney Failure, Chronic</td>\n",
       "      <td>C12.777.419.780.750.500|C13.351.968.419.780.75...</td>\n",
       "      <td>1.0</td>\n",
       "    </tr>\n",
       "  </tbody>\n",
       "</table>\n",
       "</div>"
      ],
      "text/plain": [
       "       #nct_id eligibility_type  \\\n",
       "0  NCT01306084        exclusion   \n",
       "1  NCT02735707        exclusion   \n",
       "2  NCT02735707        exclusion   \n",
       "3  NCT02765191        exclusion   \n",
       "4  NCT02765191        exclusion   \n",
       "\n",
       "                                           criterion  \\\n",
       "0                                     Pregnant Women   \n",
       "1                    Healthcare-associated pneumonia   \n",
       "2  Death is deemed to be imminent and inevitable ...   \n",
       "3                                          Pregnancy   \n",
       "4                             Chronic kidney failure   \n",
       "\n",
       "                         label                             term  ner_score  \\\n",
       "0        word_scores:pregnancy                   pregnant women      1.000   \n",
       "1  word_scores:chronic_disease  healthcare-associated pneumonia      0.955   \n",
       "2        word_scores:treatment                        treatment      0.841   \n",
       "3        word_scores:pregnancy                        pregnancy      0.999   \n",
       "4  word_scores:chronic_disease           chronic kidney failure      0.985   \n",
       "\n",
       "                          concepts  \\\n",
       "0                   Pregnant Women   \n",
       "1  Healthcare-Associated Pneumonia   \n",
       "2                     Therapeutics   \n",
       "3                        Pregnancy   \n",
       "4          Kidney Failure, Chronic   \n",
       "\n",
       "                                        tree_numbers  nel_score  \n",
       "0                                        M01.975.807        1.0  \n",
       "1  C01.248.250|C01.748.610.300|C08.381.677.300|C0...        1.0  \n",
       "2                                                E02        1.0  \n",
       "3                                    G08.686.784.769        1.0  \n",
       "4  C12.777.419.780.750.500|C13.351.968.419.780.75...        1.0  "
      ]
     },
     "execution_count": 62,
     "metadata": {},
     "output_type": "execute_result"
    }
   ],
   "source": [
    "df12.head()"
   ]
  },
  {
   "cell_type": "code",
   "execution_count": 63,
   "metadata": {},
   "outputs": [
    {
     "data": {
      "text/plain": [
       "Pregnancy                                  717\n",
       "Women                                      331\n",
       "Therapeutics                               204\n",
       "Cancer                                     136\n",
       "COVID-19                                   131\n",
       "                                          ... \n",
       "Demyelinating Diseases                       1\n",
       "Suicide                                      1\n",
       "Bariatric Surgery                            1\n",
       "Selective Serotonin Reuptake Inhibitors      1\n",
       "Blood Glucose                                1\n",
       "Name: concepts, Length: 1402, dtype: int64"
      ]
     },
     "execution_count": 63,
     "metadata": {},
     "output_type": "execute_result"
    }
   ],
   "source": [
    "df12.concepts.value_counts()"
   ]
  },
  {
   "cell_type": "markdown",
   "metadata": {},
   "source": [
    "### 3.1   Importing risk factor list"
   ]
  },
  {
   "cell_type": "code",
   "execution_count": 64,
   "metadata": {},
   "outputs": [
    {
     "data": {
      "text/html": [
       "<div>\n",
       "<style scoped>\n",
       "    .dataframe tbody tr th:only-of-type {\n",
       "        vertical-align: middle;\n",
       "    }\n",
       "\n",
       "    .dataframe tbody tr th {\n",
       "        vertical-align: top;\n",
       "    }\n",
       "\n",
       "    .dataframe thead th {\n",
       "        text-align: right;\n",
       "    }\n",
       "</style>\n",
       "<table border=\"1\" class=\"dataframe\">\n",
       "  <thead>\n",
       "    <tr style=\"text-align: right;\">\n",
       "      <th></th>\n",
       "      <th>Risk factors</th>\n",
       "      <th>CUI</th>\n",
       "      <th>Query</th>\n",
       "      <th>Concept</th>\n",
       "    </tr>\n",
       "  </thead>\n",
       "  <tbody>\n",
       "    <tr>\n",
       "      <th>0</th>\n",
       "      <td>Old age</td>\n",
       "      <td>C0231337,C1999167</td>\n",
       "      <td>Old_age</td>\n",
       "      <td>Aging</td>\n",
       "    </tr>\n",
       "    <tr>\n",
       "      <th>1</th>\n",
       "      <td>Males</td>\n",
       "      <td>C0086582</td>\n",
       "      <td>Males</td>\n",
       "      <td>Men</td>\n",
       "    </tr>\n",
       "    <tr>\n",
       "      <th>2</th>\n",
       "      <td>Chronic kidney disease</td>\n",
       "      <td>C1561643,C4075517,C4553188,C4075526</td>\n",
       "      <td>Chronic Kidney Diseases</td>\n",
       "      <td>Chronic Kidney Diseases</td>\n",
       "    </tr>\n",
       "    <tr>\n",
       "      <th>3</th>\n",
       "      <td>COPD</td>\n",
       "      <td>C0024117</td>\n",
       "      <td>COPD</td>\n",
       "      <td>COPD</td>\n",
       "    </tr>\n",
       "    <tr>\n",
       "      <th>4</th>\n",
       "      <td>Lung cancer</td>\n",
       "      <td>C0684249,C0242379,C1306460</td>\n",
       "      <td>Lung_cancer</td>\n",
       "      <td>Lung Cancer</td>\n",
       "    </tr>\n",
       "    <tr>\n",
       "      <th>5</th>\n",
       "      <td>Immunocompromised state (weakened immune syste...</td>\n",
       "      <td>C0029216,C0524930</td>\n",
       "      <td>Weak_immune_1</td>\n",
       "      <td>Weak_immune_1</td>\n",
       "    </tr>\n",
       "    <tr>\n",
       "      <th>6</th>\n",
       "      <td>Obesity</td>\n",
       "      <td>C0028754,C1963185</td>\n",
       "      <td>Obesity</td>\n",
       "      <td>Obesity</td>\n",
       "    </tr>\n",
       "    <tr>\n",
       "      <th>7</th>\n",
       "      <td>Serious heart conditions, such as heart failur...</td>\n",
       "      <td>C0018802,C4554158,C0018801,C0010054,C1956346,C...</td>\n",
       "      <td>Serious_heart_diseases</td>\n",
       "      <td>Serious Heart Condition</td>\n",
       "    </tr>\n",
       "    <tr>\n",
       "      <th>8</th>\n",
       "      <td>Sickle cell disease</td>\n",
       "      <td>C0002895</td>\n",
       "      <td>Sickle_cell_disease</td>\n",
       "      <td>Sickle Cell Diseases</td>\n",
       "    </tr>\n",
       "    <tr>\n",
       "      <th>9</th>\n",
       "      <td>Asthma</td>\n",
       "      <td>C0004096,C2984299</td>\n",
       "      <td>Asthma</td>\n",
       "      <td>Asthma</td>\n",
       "    </tr>\n",
       "    <tr>\n",
       "      <th>10</th>\n",
       "      <td>Neurologic conditions, such as dementia</td>\n",
       "      <td>C0002395,C0011265,C0497327,C0014544, C0026769,...</td>\n",
       "      <td>Neurological_disorder</td>\n",
       "      <td>Neurological Disorder</td>\n",
       "    </tr>\n",
       "    <tr>\n",
       "      <th>11</th>\n",
       "      <td>Cerebrovascular disease (affects blood vessels...</td>\n",
       "      <td>C0678234,C1961121,C0549207,C1261287,C1522213,C...</td>\n",
       "      <td>Cerebrovascular_disorder</td>\n",
       "      <td>Cerebrovascular Disorders</td>\n",
       "    </tr>\n",
       "    <tr>\n",
       "      <th>12</th>\n",
       "      <td>Cystic fibrosis</td>\n",
       "      <td>C0010674</td>\n",
       "      <td>Cystic_fibrosis</td>\n",
       "      <td>Cystic Fibrosis</td>\n",
       "    </tr>\n",
       "    <tr>\n",
       "      <th>13</th>\n",
       "      <td>Hypertension</td>\n",
       "      <td>C0020538,C1963138</td>\n",
       "      <td>Hypertension</td>\n",
       "      <td>Hypertension</td>\n",
       "    </tr>\n",
       "    <tr>\n",
       "      <th>14</th>\n",
       "      <td>Immunocompromised state (weakened immune syste...</td>\n",
       "      <td>C0005961,C3540726,C3540727,C0021051,C0279026,C...</td>\n",
       "      <td>Weak_immune_2</td>\n",
       "      <td>Weak_immune_2</td>\n",
       "    </tr>\n",
       "    <tr>\n",
       "      <th>15</th>\n",
       "      <td>Pregnancy</td>\n",
       "      <td>C0032961</td>\n",
       "      <td>Pregnancy</td>\n",
       "      <td>Pregnancy</td>\n",
       "    </tr>\n",
       "    <tr>\n",
       "      <th>16</th>\n",
       "      <td>Liver diseases</td>\n",
       "      <td>C0023895</td>\n",
       "      <td>Liver_diseases</td>\n",
       "      <td>Liver Diseases</td>\n",
       "    </tr>\n",
       "    <tr>\n",
       "      <th>17</th>\n",
       "      <td>Pulmonary fibrosis (having damaged or scarred ...</td>\n",
       "      <td>C4553408,C0034069</td>\n",
       "      <td>Pulmonary_fibrosis</td>\n",
       "      <td>Pulmonary Fibrosis</td>\n",
       "    </tr>\n",
       "    <tr>\n",
       "      <th>18</th>\n",
       "      <td>Smoking</td>\n",
       "      <td>C1881674,C1548578,C0037369,C0453996</td>\n",
       "      <td>Smoking</td>\n",
       "      <td>Smoking</td>\n",
       "    </tr>\n",
       "    <tr>\n",
       "      <th>19</th>\n",
       "      <td>Diabetes</td>\n",
       "      <td>C0011847,C0011849</td>\n",
       "      <td>Diabetes</td>\n",
       "      <td>Diabetes</td>\n",
       "    </tr>\n",
       "    <tr>\n",
       "      <th>20</th>\n",
       "      <td>Thalassemia</td>\n",
       "      <td>C0039730,C0002312</td>\n",
       "      <td>Thalassemia</td>\n",
       "      <td>Thalassemia</td>\n",
       "    </tr>\n",
       "  </tbody>\n",
       "</table>\n",
       "</div>"
      ],
      "text/plain": [
       "                                         Risk factors  \\\n",
       "0                                             Old age   \n",
       "1                                               Males   \n",
       "2                              Chronic kidney disease   \n",
       "3                                                COPD   \n",
       "4                                         Lung cancer   \n",
       "5   Immunocompromised state (weakened immune syste...   \n",
       "6                                             Obesity   \n",
       "7   Serious heart conditions, such as heart failur...   \n",
       "8                                 Sickle cell disease   \n",
       "9                                              Asthma   \n",
       "10            Neurologic conditions, such as dementia   \n",
       "11  Cerebrovascular disease (affects blood vessels...   \n",
       "12                                    Cystic fibrosis   \n",
       "13                                       Hypertension   \n",
       "14  Immunocompromised state (weakened immune syste...   \n",
       "15                                          Pregnancy   \n",
       "16                                     Liver diseases   \n",
       "17  Pulmonary fibrosis (having damaged or scarred ...   \n",
       "18                                            Smoking   \n",
       "19                                           Diabetes   \n",
       "20                                        Thalassemia   \n",
       "\n",
       "                                                  CUI  \\\n",
       "0                                   C0231337,C1999167   \n",
       "1                                            C0086582   \n",
       "2                 C1561643,C4075517,C4553188,C4075526   \n",
       "3                                            C0024117   \n",
       "4                          C0684249,C0242379,C1306460   \n",
       "5                                   C0029216,C0524930   \n",
       "6                                   C0028754,C1963185   \n",
       "7   C0018802,C4554158,C0018801,C0010054,C1956346,C...   \n",
       "8                                            C0002895   \n",
       "9                                   C0004096,C2984299   \n",
       "10  C0002395,C0011265,C0497327,C0014544, C0026769,...   \n",
       "11  C0678234,C1961121,C0549207,C1261287,C1522213,C...   \n",
       "12                                           C0010674   \n",
       "13                                  C0020538,C1963138   \n",
       "14  C0005961,C3540726,C3540727,C0021051,C0279026,C...   \n",
       "15                                           C0032961   \n",
       "16                                           C0023895   \n",
       "17                                  C4553408,C0034069   \n",
       "18                C1881674,C1548578,C0037369,C0453996   \n",
       "19                                  C0011847,C0011849   \n",
       "20                                  C0039730,C0002312   \n",
       "\n",
       "                       Query                    Concept  \n",
       "0                    Old_age                      Aging  \n",
       "1                      Males                        Men  \n",
       "2    Chronic Kidney Diseases    Chronic Kidney Diseases  \n",
       "3                       COPD                       COPD  \n",
       "4                Lung_cancer                Lung Cancer  \n",
       "5              Weak_immune_1              Weak_immune_1  \n",
       "6                    Obesity                    Obesity  \n",
       "7     Serious_heart_diseases    Serious Heart Condition  \n",
       "8        Sickle_cell_disease       Sickle Cell Diseases  \n",
       "9                     Asthma                     Asthma  \n",
       "10     Neurological_disorder      Neurological Disorder  \n",
       "11  Cerebrovascular_disorder  Cerebrovascular Disorders  \n",
       "12           Cystic_fibrosis            Cystic Fibrosis  \n",
       "13              Hypertension               Hypertension  \n",
       "14             Weak_immune_2              Weak_immune_2  \n",
       "15                 Pregnancy                  Pregnancy  \n",
       "16            Liver_diseases             Liver Diseases  \n",
       "17        Pulmonary_fibrosis         Pulmonary Fibrosis  \n",
       "18                   Smoking                    Smoking  \n",
       "19                  Diabetes                   Diabetes  \n",
       "20               Thalassemia                Thalassemia  "
      ]
     },
     "execution_count": 64,
     "metadata": {},
     "output_type": "execute_result"
    }
   ],
   "source": [
    "dfd =pd.read_excel('./Risk_factor_list.xlsx')\n",
    "dfd"
   ]
  },
  {
   "cell_type": "code",
   "execution_count": 65,
   "metadata": {},
   "outputs": [
    {
     "data": {
      "text/plain": [
       "['Aging',\n",
       " 'Men',\n",
       " 'Chronic Kidney Diseases',\n",
       " 'COPD',\n",
       " 'Lung Cancer',\n",
       " 'Weak_immune_1',\n",
       " 'Obesity',\n",
       " 'Serious Heart Condition',\n",
       " 'Sickle Cell Diseases',\n",
       " 'Asthma',\n",
       " 'Neurological Disorder',\n",
       " 'Cerebrovascular Disorders',\n",
       " 'Cystic Fibrosis',\n",
       " 'Hypertension',\n",
       " 'Weak_immune_2',\n",
       " 'Pregnancy',\n",
       " 'Liver Diseases',\n",
       " 'Pulmonary Fibrosis',\n",
       " 'Smoking',\n",
       " 'Diabetes',\n",
       " 'Thalassemia']"
      ]
     },
     "execution_count": 65,
     "metadata": {},
     "output_type": "execute_result"
    }
   ],
   "source": [
    "risk_factor = list(dfd.Concept)\n",
    "risk_factor"
   ]
  },
  {
   "cell_type": "markdown",
   "metadata": {},
   "source": [
    "### 3.2  Risk factors in exclusion criteria"
   ]
  },
  {
   "cell_type": "code",
   "execution_count": 66,
   "metadata": {},
   "outputs": [],
   "source": [
    "df122 = df12[df12.concepts.isin(dfd.Concept)].reset_index(drop=True)"
   ]
  },
  {
   "cell_type": "code",
   "execution_count": 67,
   "metadata": {},
   "outputs": [
    {
     "data": {
      "text/plain": [
       "Pregnancy                    717\n",
       "Serious Heart Condition      117\n",
       "Liver Diseases                69\n",
       "Hypertension                  69\n",
       "Chronic Kidney Diseases       67\n",
       "Diabetes                      56\n",
       "COPD                          55\n",
       "Cerebrovascular Disorders     52\n",
       "Asthma                        47\n",
       "Men                           47\n",
       "Sickle Cell Diseases          27\n",
       "Weak_immune_2                 22\n",
       "Neurological Disorder         18\n",
       "Pulmonary Fibrosis            14\n",
       "Lung Cancer                   11\n",
       "Cystic Fibrosis                7\n",
       "Obesity                        6\n",
       "Weak_immune_1                  4\n",
       "Thalassemia                    3\n",
       "Name: concepts, dtype: int64"
      ]
     },
     "execution_count": 67,
     "metadata": {},
     "output_type": "execute_result"
    }
   ],
   "source": [
    "df122.concepts.value_counts()"
   ]
  },
  {
   "cell_type": "code",
   "execution_count": 68,
   "metadata": {},
   "outputs": [
    {
     "name": "stdout",
     "output_type": "stream",
     "text": [
      "Aging\n",
      "Smoking\n"
     ]
    },
    {
     "data": {
      "text/plain": [
       "Pregnancy                    717\n",
       "Serious Heart Condition      117\n",
       "Liver Diseases                69\n",
       "Hypertension                  69\n",
       "Chronic Kidney Diseases       67\n",
       "Diabetes                      56\n",
       "COPD                          55\n",
       "Cerebrovascular Disorders     52\n",
       "Asthma                        47\n",
       "Men                           47\n",
       "Sickle Cell Diseases          27\n",
       "Weak_immune_2                 22\n",
       "Neurological Disorder         18\n",
       "Pulmonary Fibrosis            14\n",
       "Lung Cancer                   11\n",
       "Cystic Fibrosis                7\n",
       "Obesity                        6\n",
       "Weak_immune_1                  4\n",
       "Thalassemia                    3\n",
       "Aging                          0\n",
       "Smoking                        0\n",
       "Name: concepts, dtype: int64"
      ]
     },
     "execution_count": 68,
     "metadata": {},
     "output_type": "execute_result"
    }
   ],
   "source": [
    "# This is to display some risk factors with value 0\n",
    "dic1 = df122.concepts.value_counts()\n",
    "for rf in risk_factor:\n",
    "    if rf not in dic1.keys():\n",
    "        print(rf)\n",
    "        dic1[rf] = 0\n",
    "dic1"
   ]
  },
  {
   "cell_type": "code",
   "execution_count": 69,
   "metadata": {
    "scrolled": false
   },
   "outputs": [
    {
     "data": {
      "image/png": "[encoded data removed]",
      "text/plain": [
       "<Figure size 864x576 with 1 Axes>"
      ]
     },
     "metadata": {},
     "output_type": "display_data"
    }
   ],
   "source": [
    "fig1 = plt.figure(figsize=(12,8))\n",
    "dic1.sort_values().plot.barh()\n",
    "plt.title('Number of studies with the risk factor in exclusion criteria')\n",
    "for i,v in enumerate(dic1.sort_values()):\n",
    "    plt.text(v + 1, i , str(v), color = 'red')\n",
    "    plt.text(v + 36, i , (\"{:.2%}\".format(v/2031)), color = 'green')"
   ]
  },
  {
   "cell_type": "code",
   "execution_count": 70,
   "metadata": {},
   "outputs": [],
   "source": [
    "# fig1.savefig(\"./data/risk_factor_in_exclusion.png\", dpi=300, bbox_inches = \"tight\")"
   ]
  },
  {
   "cell_type": "markdown",
   "metadata": {},
   "source": [
    "### 3.3  Risk factors in inclusion criteria"
   ]
  },
  {
   "cell_type": "code",
   "execution_count": 71,
   "metadata": {},
   "outputs": [
    {
     "data": {
      "text/plain": [
       "(3700, 9)"
      ]
     },
     "execution_count": 71,
     "metadata": {},
     "output_type": "execute_result"
    }
   ],
   "source": [
    "df11.shape"
   ]
  },
  {
   "cell_type": "code",
   "execution_count": 72,
   "metadata": {},
   "outputs": [
    {
     "data": {
      "text/plain": [
       "(3700, 9)"
      ]
     },
     "execution_count": 72,
     "metadata": {},
     "output_type": "execute_result"
    }
   ],
   "source": [
    "df11 = df11.dropna(subset=['concepts']).reset_index(drop=True)\n",
    "df11.shape"
   ]
  },
  {
   "cell_type": "code",
   "execution_count": 73,
   "metadata": {},
   "outputs": [],
   "source": [
    "df111= df11[df11.concepts.isin(dfd.Concept)].reset_index(drop=True)"
   ]
  },
  {
   "cell_type": "code",
   "execution_count": 74,
   "metadata": {},
   "outputs": [],
   "source": [
    "dic2 = df111.concepts.value_counts()"
   ]
  },
  {
   "cell_type": "code",
   "execution_count": 75,
   "metadata": {},
   "outputs": [
    {
     "name": "stdout",
     "output_type": "stream",
     "text": [
      "Aging\n",
      "Cystic Fibrosis\n",
      "Smoking\n",
      "Thalassemia\n"
     ]
    },
    {
     "data": {
      "text/plain": [
       "Men                          273\n",
       "Diabetes                      66\n",
       "Pregnancy                     60\n",
       "Hypertension                  41\n",
       "Serious Heart Condition       36\n",
       "Obesity                       31\n",
       "COPD                          26\n",
       "Asthma                        20\n",
       "Chronic Kidney Diseases       19\n",
       "Cerebrovascular Disorders     12\n",
       "Lung Cancer                    5\n",
       "Sickle Cell Diseases           2\n",
       "Liver Diseases                 2\n",
       "Weak_immune_1                  1\n",
       "Weak_immune_2                  1\n",
       "Neurological Disorder          1\n",
       "Pulmonary Fibrosis             1\n",
       "Aging                          0\n",
       "Cystic Fibrosis                0\n",
       "Smoking                        0\n",
       "Thalassemia                    0\n",
       "Name: concepts, dtype: int64"
      ]
     },
     "execution_count": 75,
     "metadata": {},
     "output_type": "execute_result"
    }
   ],
   "source": [
    "for rf in risk_factor:\n",
    "    if rf not in dic2.keys():\n",
    "        print(rf)\n",
    "        dic2[rf] = 0\n",
    "dic2"
   ]
  },
  {
   "cell_type": "code",
   "execution_count": 76,
   "metadata": {},
   "outputs": [
    {
     "data": {
      "image/png": "[encoded data removed]",
      "text/plain": [
       "<Figure size 864x576 with 1 Axes>"
      ]
     },
     "metadata": {},
     "output_type": "display_data"
    }
   ],
   "source": [
    "fig2 = plt.figure(figsize=(12,8))\n",
    "dic2.sort_values().plot.barh()\n",
    "plt.title('Number of studies with the risk factor in inclusion criteria')\n",
    "for i,v in enumerate(dic2.sort_values()):\n",
    "    plt.text(v + 1, i , str(v), color = 'red')\n",
    "    plt.text(v + 15, i , (\"{:.2%}\".format(v/2031)), color = 'green')"
   ]
  },
  {
   "cell_type": "code",
   "execution_count": 77,
   "metadata": {},
   "outputs": [],
   "source": [
    "# fig2.savefig(\"./data/risk_factor_in_inclusion.png\", dpi=300, bbox_inches = \"tight\")"
   ]
  }
 ],
 "metadata": {
  "kernelspec": {
   "display_name": "Python 3",
   "language": "python",
   "name": "python3"
  },
  "language_info": {
   "codemirror_mode": {
    "name": "ipython",
    "version": 3
   },
   "file_extension": ".py",
   "mimetype": "text/x-python",
   "name": "python",
   "nbconvert_exporter": "python",
   "pygments_lexer": "ipython3",
   "version": "3.7.6"
  }
 },
 "nbformat": 4,
 "nbformat_minor": 4
}
