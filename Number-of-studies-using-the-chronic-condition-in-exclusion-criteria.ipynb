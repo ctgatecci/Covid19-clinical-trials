{
 "cells": [
  {
   "cell_type": "markdown",
   "metadata": {},
   "source": [
    "# Number-of-studies-using-the-chronic-condition-in-exclusion-criteria\n",
    "\n",
    "    - Focus on 18 most common choronic diseases in exclusion criteria\n",
    "    - Using parsed results from Facebook Clinical-Trial-Parser"
   ]
  },
  {
   "cell_type": "markdown",
   "metadata": {},
   "source": [
    "## 1.  Importing the parsed result and common chronic disease list"
   ]
  },
  {
   "cell_type": "code",
   "execution_count": 1,
   "metadata": {},
   "outputs": [],
   "source": [
    "import pandas as pd\n",
    "import matplotlib.pyplot as plt\n",
    "plt.style.use('fivethirtyeight')"
   ]
  },
  {
   "cell_type": "code",
   "execution_count": 2,
   "metadata": {},
   "outputs": [
    {
     "data": {
      "text/plain": [
       "(23984, 9)"
      ]
     },
     "execution_count": 2,
     "metadata": {},
     "output_type": "execute_result"
    }
   ],
   "source": [
    "df = pd.read_csv('ie_parsed_clinical_trials.tsv',sep='\\t')\n",
    "df.shape"
   ]
  },
  {
   "cell_type": "code",
   "execution_count": 3,
   "metadata": {},
   "outputs": [
    {
     "data": {
      "text/plain": [
       "1833"
      ]
     },
     "execution_count": 3,
     "metadata": {},
     "output_type": "execute_result"
    }
   ],
   "source": [
    "df['#nct_id'].nunique()"
   ]
  },
  {
   "cell_type": "code",
   "execution_count": 4,
   "metadata": {},
   "outputs": [
    {
     "data": {
      "text/html": [
       "<div>\n",
       "<style scoped>\n",
       "    .dataframe tbody tr th:only-of-type {\n",
       "        vertical-align: middle;\n",
       "    }\n",
       "\n",
       "    .dataframe tbody tr th {\n",
       "        vertical-align: top;\n",
       "    }\n",
       "\n",
       "    .dataframe thead th {\n",
       "        text-align: right;\n",
       "    }\n",
       "</style>\n",
       "<table border=\"1\" class=\"dataframe\">\n",
       "  <thead>\n",
       "    <tr style=\"text-align: right;\">\n",
       "      <th></th>\n",
       "      <th>#nct_id</th>\n",
       "      <th>eligibility_type</th>\n",
       "      <th>criterion</th>\n",
       "      <th>label</th>\n",
       "      <th>term</th>\n",
       "      <th>ner_score</th>\n",
       "      <th>concepts</th>\n",
       "      <th>tree_numbers</th>\n",
       "      <th>nel_score</th>\n",
       "    </tr>\n",
       "  </thead>\n",
       "  <tbody>\n",
       "    <tr>\n",
       "      <th>0</th>\n",
       "      <td>NCT01306084</td>\n",
       "      <td>inclusion</td>\n",
       "      <td>Must have (or be suspected of having) a viral ...</td>\n",
       "      <td>word_scores:chronic_disease</td>\n",
       "      <td>viral infection</td>\n",
       "      <td>0.781</td>\n",
       "      <td>Virus Diseases</td>\n",
       "      <td>C01.925</td>\n",
       "      <td>1.0</td>\n",
       "    </tr>\n",
       "    <tr>\n",
       "      <th>1</th>\n",
       "      <td>NCT01306084</td>\n",
       "      <td>exclusion</td>\n",
       "      <td>Patients who are unable to safely undergo stud...</td>\n",
       "      <td>word_scores:treatment</td>\n",
       "      <td>study procedures</td>\n",
       "      <td>0.764</td>\n",
       "      <td>NaN</td>\n",
       "      <td>NaN</td>\n",
       "      <td>NaN</td>\n",
       "    </tr>\n",
       "  </tbody>\n",
       "</table>\n",
       "</div>"
      ],
      "text/plain": [
       "       #nct_id eligibility_type  \\\n",
       "0  NCT01306084        inclusion   \n",
       "1  NCT01306084        exclusion   \n",
       "\n",
       "                                           criterion  \\\n",
       "0  Must have (or be suspected of having) a viral ...   \n",
       "1  Patients who are unable to safely undergo stud...   \n",
       "\n",
       "                         label              term  ner_score        concepts  \\\n",
       "0  word_scores:chronic_disease   viral infection      0.781  Virus Diseases   \n",
       "1        word_scores:treatment  study procedures      0.764             NaN   \n",
       "\n",
       "  tree_numbers  nel_score  \n",
       "0      C01.925        1.0  \n",
       "1          NaN        NaN  "
      ]
     },
     "execution_count": 4,
     "metadata": {},
     "output_type": "execute_result"
    }
   ],
   "source": [
    "df.head(2)"
   ]
  },
  {
   "cell_type": "code",
   "execution_count": 5,
   "metadata": {},
   "outputs": [],
   "source": [
    "df = df.drop_duplicates(subset=['#nct_id', 'eligibility_type', 'concepts']).dropna(subset=['concepts']).reset_index(drop=True)"
   ]
  },
  {
   "cell_type": "code",
   "execution_count": 6,
   "metadata": {},
   "outputs": [
    {
     "data": {
      "text/plain": [
       "(13180, 9)"
      ]
     },
     "execution_count": 6,
     "metadata": {},
     "output_type": "execute_result"
    }
   ],
   "source": [
    "df.shape"
   ]
  },
  {
   "cell_type": "markdown",
   "metadata": {},
   "source": [
    "Importing common chronic disease list"
   ]
  },
  {
   "cell_type": "code",
   "execution_count": 7,
   "metadata": {},
   "outputs": [],
   "source": [
    "df21 = pd.read_excel('./common_disease_list.xlsx')"
   ]
  },
  {
   "cell_type": "code",
   "execution_count": 8,
   "metadata": {},
   "outputs": [
    {
     "data": {
      "text/plain": [
       "(18, 3)"
      ]
     },
     "execution_count": 8,
     "metadata": {},
     "output_type": "execute_result"
    }
   ],
   "source": [
    "df21.shape"
   ]
  },
  {
   "cell_type": "markdown",
   "metadata": {},
   "source": [
    "## 2. Combining some concepts"
   ]
  },
  {
   "cell_type": "markdown",
   "metadata": {},
   "source": [
    "#### A-1 Hypertension"
   ]
  },
  {
   "cell_type": "code",
   "execution_count": 9,
   "metadata": {},
   "outputs": [
    {
     "data": {
      "text/plain": [
       "Hypertension                                                                                                             79\n",
       "Hypertension, Pulmonary                                                                                                  18\n",
       "Hypertension, Portal                                                                                                      6\n",
       "Intracranial Hypertension                                                                                                 3\n",
       "Familial Primary Pulmonary Hypertension|Idiopathic Pulmonary Arterial Hypertension|Pulmonary Hypertension, Primary, 1     2\n",
       "Hypertension, Malignant                                                                                                   1\n",
       "Hypertension, Pregnancy-Induced                                                                                           1\n",
       "Name: concepts, dtype: int64"
      ]
     },
     "execution_count": 9,
     "metadata": {},
     "output_type": "execute_result"
    }
   ],
   "source": [
    "df[df.concepts.str.contains('Hypertension')].concepts.value_counts()"
   ]
  },
  {
   "cell_type": "code",
   "execution_count": 10,
   "metadata": {},
   "outputs": [],
   "source": [
    "df.concepts = df.concepts.str.replace('.*Hypertension.*','Hypertension',regex=True)"
   ]
  },
  {
   "cell_type": "code",
   "execution_count": 11,
   "metadata": {},
   "outputs": [
    {
     "data": {
      "text/plain": [
       "Hypertension    110\n",
       "Name: concepts, dtype: int64"
      ]
     },
     "execution_count": 11,
     "metadata": {},
     "output_type": "execute_result"
    }
   ],
   "source": [
    "df[df.concepts.str.contains('Hypertension')].concepts.value_counts()"
   ]
  },
  {
   "cell_type": "markdown",
   "metadata": {},
   "source": [
    "#### A-2 Hyperlipidemia"
   ]
  },
  {
   "cell_type": "code",
   "execution_count": 12,
   "metadata": {},
   "outputs": [
    {
     "data": {
      "text/plain": [
       "Hyperlipidemias    1\n",
       "Name: concepts, dtype: int64"
      ]
     },
     "execution_count": 12,
     "metadata": {},
     "output_type": "execute_result"
    }
   ],
   "source": [
    "df[df.concepts.str.contains('Hyperlipidemia')].concepts.value_counts()"
   ]
  },
  {
   "cell_type": "markdown",
   "metadata": {},
   "source": [
    "#### A-3 Ischemic heart disease"
   ]
  },
  {
   "cell_type": "code",
   "execution_count": 13,
   "metadata": {},
   "outputs": [
    {
     "data": {
      "text/plain": [
       "Series([], Name: concepts, dtype: int64)"
      ]
     },
     "execution_count": 13,
     "metadata": {},
     "output_type": "execute_result"
    }
   ],
   "source": [
    "df[df.concepts.str.contains('Ischemic Heart Disease')].concepts.value_counts()"
   ]
  },
  {
   "cell_type": "code",
   "execution_count": 14,
   "metadata": {},
   "outputs": [
    {
     "data": {
      "text/plain": [
       "Myocardial Ischemia    16\n",
       "Name: concepts, dtype: int64"
      ]
     },
     "execution_count": 14,
     "metadata": {},
     "output_type": "execute_result"
    }
   ],
   "source": [
    "df[df.concepts.str.contains('Myocardial Ischemia')].concepts.value_counts()"
   ]
  },
  {
   "cell_type": "code",
   "execution_count": 15,
   "metadata": {},
   "outputs": [],
   "source": [
    "df.concepts = df.concepts.str.replace('Myocardial Ischemia','Ischemic Heart Disease')"
   ]
  },
  {
   "cell_type": "code",
   "execution_count": 16,
   "metadata": {},
   "outputs": [
    {
     "data": {
      "text/plain": [
       "Ischemic Heart Disease    16\n",
       "Name: concepts, dtype: int64"
      ]
     },
     "execution_count": 16,
     "metadata": {},
     "output_type": "execute_result"
    }
   ],
   "source": [
    "df[df.concepts.str.contains('Ischemic Heart Disease')].concepts.value_counts()"
   ]
  },
  {
   "cell_type": "markdown",
   "metadata": {},
   "source": [
    "#### A-4 Diabetes"
   ]
  },
  {
   "cell_type": "code",
   "execution_count": 17,
   "metadata": {},
   "outputs": [
    {
     "data": {
      "text/plain": [
       "Diabetes Mellitus                                      101\n",
       "Diabetes Mellitus, Type 1|Diabetes Mellitus, Type 2     14\n",
       "Diabetes Mellitus, Type 1                                4\n",
       "Diabetes Mellitus, Type 2                                2\n",
       "Diabetes Insipidus                                       1\n",
       "Name: concepts, dtype: int64"
      ]
     },
     "execution_count": 17,
     "metadata": {},
     "output_type": "execute_result"
    }
   ],
   "source": [
    "df[df.concepts.str.contains('Diabetes')].concepts.value_counts()"
   ]
  },
  {
   "cell_type": "code",
   "execution_count": 18,
   "metadata": {},
   "outputs": [],
   "source": [
    "df.concepts = df.concepts.replace('.*Diabetes.*','Diabetes',regex=True)"
   ]
  },
  {
   "cell_type": "code",
   "execution_count": 19,
   "metadata": {},
   "outputs": [
    {
     "data": {
      "text/plain": [
       "Diabetes    122\n",
       "Name: concepts, dtype: int64"
      ]
     },
     "execution_count": 19,
     "metadata": {},
     "output_type": "execute_result"
    }
   ],
   "source": [
    "df[df.concepts.str.contains('Diabetes')].concepts.value_counts()"
   ]
  },
  {
   "cell_type": "markdown",
   "metadata": {},
   "source": [
    "#### A-5 Anemia"
   ]
  },
  {
   "cell_type": "code",
   "execution_count": 20,
   "metadata": {},
   "outputs": [
    {
     "data": {
      "text/plain": [
       "Anemia                 13\n",
       "Anemia, Sickle Cell    12\n",
       "Anemia, Aplastic        2\n",
       "Anemia, Hemolytic       1\n",
       "Fanconi Anemia          1\n",
       "Name: concepts, dtype: int64"
      ]
     },
     "execution_count": 20,
     "metadata": {},
     "output_type": "execute_result"
    }
   ],
   "source": [
    "df[df.concepts.str.contains('Anemia')].concepts.value_counts()"
   ]
  },
  {
   "cell_type": "code",
   "execution_count": 21,
   "metadata": {},
   "outputs": [],
   "source": [
    "df.concepts = df.concepts.replace('.*Anemia.*','Anemia',regex=True)"
   ]
  },
  {
   "cell_type": "code",
   "execution_count": 22,
   "metadata": {},
   "outputs": [
    {
     "data": {
      "text/plain": [
       "Anemia    29\n",
       "Name: concepts, dtype: int64"
      ]
     },
     "execution_count": 22,
     "metadata": {},
     "output_type": "execute_result"
    }
   ],
   "source": [
    "df[df.concepts.str.contains('Anemia')].concepts.value_counts()"
   ]
  },
  {
   "cell_type": "markdown",
   "metadata": {},
   "source": [
    "#### A-6 Chronic kidney disease"
   ]
  },
  {
   "cell_type": "code",
   "execution_count": 23,
   "metadata": {},
   "outputs": [
    {
     "data": {
      "text/plain": [
       "Chronic Kidney Diseases    85\n",
       "Kidney                     74\n",
       "Kidney Failure             42\n",
       "Kidney Failure, Chronic    33\n",
       "Kidney Diseases            22\n",
       "Acute Kidney Injury         8\n",
       "Kidney Transplantation      5\n",
       "Kidney Calculi              4\n",
       "Kidney Failure, Acute       3\n",
       "Solitary Kidney             1\n",
       "Name: concepts, dtype: int64"
      ]
     },
     "execution_count": 23,
     "metadata": {},
     "output_type": "execute_result"
    }
   ],
   "source": [
    "df[df.concepts.str.contains('Kidney')].concepts.value_counts()"
   ]
  },
  {
   "cell_type": "code",
   "execution_count": 24,
   "metadata": {},
   "outputs": [],
   "source": [
    "df.concepts = df.concepts.str.replace('Renal Insufficiency, Chronic','Chronic Kidney Diseases',regex=False)"
   ]
  },
  {
   "cell_type": "code",
   "execution_count": 25,
   "metadata": {},
   "outputs": [
    {
     "data": {
      "text/plain": [
       "Chronic Kidney Diseases    86\n",
       "Name: concepts, dtype: int64"
      ]
     },
     "execution_count": 25,
     "metadata": {},
     "output_type": "execute_result"
    }
   ],
   "source": [
    "df[df.concepts.str.contains('Chronic Kidney Diseases')].concepts.value_counts()"
   ]
  },
  {
   "cell_type": "markdown",
   "metadata": {},
   "source": [
    "#### A-7 Atrial fibrillation"
   ]
  },
  {
   "cell_type": "code",
   "execution_count": 26,
   "metadata": {},
   "outputs": [
    {
     "data": {
      "text/plain": [
       "Atrial Fibrillation    18\n",
       "Name: concepts, dtype: int64"
      ]
     },
     "execution_count": 26,
     "metadata": {},
     "output_type": "execute_result"
    }
   ],
   "source": [
    "df[df.concepts.str.contains('Atrial Fibrillation')].concepts.value_counts()"
   ]
  },
  {
   "cell_type": "markdown",
   "metadata": {},
   "source": [
    "#### A-8 Heart failure"
   ]
  },
  {
   "cell_type": "code",
   "execution_count": 27,
   "metadata": {},
   "outputs": [
    {
     "data": {
      "text/plain": [
       "Heart Failure               77\n",
       "Congestive Heart Failure    43\n",
       "Heart Failure, Systolic      2\n",
       "Name: concepts, dtype: int64"
      ]
     },
     "execution_count": 27,
     "metadata": {},
     "output_type": "execute_result"
    }
   ],
   "source": [
    "df[df.concepts.str.contains('Heart Failure')].concepts.value_counts()"
   ]
  },
  {
   "cell_type": "code",
   "execution_count": 28,
   "metadata": {},
   "outputs": [],
   "source": [
    "df.concepts = df.concepts.replace('.*Heart Failure.*','Heart Failure',regex=True)"
   ]
  },
  {
   "cell_type": "code",
   "execution_count": 29,
   "metadata": {},
   "outputs": [
    {
     "data": {
      "text/plain": [
       "Heart Failure    122\n",
       "Name: concepts, dtype: int64"
      ]
     },
     "execution_count": 29,
     "metadata": {},
     "output_type": "execute_result"
    }
   ],
   "source": [
    "df[df.concepts.str.contains('Heart Failure')].concepts.value_counts()"
   ]
  },
  {
   "cell_type": "markdown",
   "metadata": {},
   "source": [
    "#### A-9 COPD and bronchiectasis"
   ]
  },
  {
   "cell_type": "code",
   "execution_count": 30,
   "metadata": {
    "scrolled": true
   },
   "outputs": [
    {
     "data": {
      "text/plain": [
       "Pulmonary Disease, Chronic Obstructive    81\n",
       "Name: concepts, dtype: int64"
      ]
     },
     "execution_count": 30,
     "metadata": {},
     "output_type": "execute_result"
    }
   ],
   "source": [
    "df[df.concepts.str.contains('Pulmonary Disease, Chronic Obstructive')].concepts.value_counts()"
   ]
  },
  {
   "cell_type": "code",
   "execution_count": 31,
   "metadata": {},
   "outputs": [
    {
     "data": {
      "text/plain": [
       "Bronchiectasis    5\n",
       "Name: concepts, dtype: int64"
      ]
     },
     "execution_count": 31,
     "metadata": {},
     "output_type": "execute_result"
    }
   ],
   "source": [
    "df[df.concepts.str.contains('Bronchiectasis')].concepts.value_counts()"
   ]
  },
  {
   "cell_type": "code",
   "execution_count": 32,
   "metadata": {},
   "outputs": [],
   "source": [
    "df.concepts = df.concepts.replace('Pulmonary Disease, Chronic Obstructive','COPD_Bronchiectasis',regex=False)"
   ]
  },
  {
   "cell_type": "code",
   "execution_count": 33,
   "metadata": {},
   "outputs": [],
   "source": [
    "df.concepts = df.concepts.replace('Bronchiectasis','COPD_Bronchiectasis',regex=False)"
   ]
  },
  {
   "cell_type": "code",
   "execution_count": 34,
   "metadata": {},
   "outputs": [
    {
     "data": {
      "text/plain": [
       "COPD_Bronchiectasis    86\n",
       "Name: concepts, dtype: int64"
      ]
     },
     "execution_count": 34,
     "metadata": {},
     "output_type": "execute_result"
    }
   ],
   "source": [
    "df[df.concepts.str.contains('COPD_Bronchiectasis')].concepts.value_counts()"
   ]
  },
  {
   "cell_type": "markdown",
   "metadata": {},
   "source": [
    "#### A-10 Rheumatoid arthritis and Osteoarthritis"
   ]
  },
  {
   "cell_type": "code",
   "execution_count": 35,
   "metadata": {},
   "outputs": [
    {
     "data": {
      "text/plain": [
       "Arthritis, Rheumatoid    14\n",
       "Name: concepts, dtype: int64"
      ]
     },
     "execution_count": 35,
     "metadata": {},
     "output_type": "execute_result"
    }
   ],
   "source": [
    "df[df.concepts.str.contains('Arthritis, Rheumatoid')].concepts.value_counts()"
   ]
  },
  {
   "cell_type": "code",
   "execution_count": 36,
   "metadata": {},
   "outputs": [
    {
     "data": {
      "text/plain": [
       "Series([], Name: concepts, dtype: int64)"
      ]
     },
     "execution_count": 36,
     "metadata": {},
     "output_type": "execute_result"
    }
   ],
   "source": [
    "df[df.concepts.str.contains('Osteoarthritis')].concepts.value_counts()"
   ]
  },
  {
   "cell_type": "code",
   "execution_count": 37,
   "metadata": {},
   "outputs": [],
   "source": [
    "df.concepts = df.concepts.replace('Arthritis, Rheumatoid','Rheumatoid_Arthritis_Osteoarthritis',regex=False)"
   ]
  },
  {
   "cell_type": "code",
   "execution_count": 38,
   "metadata": {},
   "outputs": [
    {
     "data": {
      "text/plain": [
       "Rheumatoid_Arthritis_Osteoarthritis    14\n",
       "Name: concepts, dtype: int64"
      ]
     },
     "execution_count": 38,
     "metadata": {},
     "output_type": "execute_result"
    }
   ],
   "source": [
    "df[df.concepts.str.contains('Rheumatoid_Arthritis_Osteoarthritis')].concepts.value_counts()"
   ]
  },
  {
   "cell_type": "markdown",
   "metadata": {},
   "source": [
    "#### A-11 Acquired hypothyroidism"
   ]
  },
  {
   "cell_type": "code",
   "execution_count": 39,
   "metadata": {},
   "outputs": [
    {
     "data": {
      "text/plain": [
       "Hypothyroidism    2\n",
       "Name: concepts, dtype: int64"
      ]
     },
     "execution_count": 39,
     "metadata": {},
     "output_type": "execute_result"
    }
   ],
   "source": [
    "df[df.concepts.str.contains('Hypothyroidism')].concepts.value_counts()"
   ]
  },
  {
   "cell_type": "code",
   "execution_count": 40,
   "metadata": {},
   "outputs": [],
   "source": [
    "df.concepts = df.concepts.replace('Hypothyroidism','Acquired Hypothyroidism',regex=False)"
   ]
  },
  {
   "cell_type": "code",
   "execution_count": 41,
   "metadata": {},
   "outputs": [
    {
     "data": {
      "text/plain": [
       "Acquired Hypothyroidism    2\n",
       "Name: concepts, dtype: int64"
      ]
     },
     "execution_count": 41,
     "metadata": {},
     "output_type": "execute_result"
    }
   ],
   "source": [
    "df[df.concepts.str.contains('Acquired Hypothyroidism')].concepts.value_counts()"
   ]
  },
  {
   "cell_type": "markdown",
   "metadata": {},
   "source": [
    "#### A-12  Alzheimer disease and related disorders or senile dementia"
   ]
  },
  {
   "cell_type": "code",
   "execution_count": 42,
   "metadata": {},
   "outputs": [
    {
     "data": {
      "text/plain": [
       "Alzheimer Disease    4\n",
       "Name: concepts, dtype: int64"
      ]
     },
     "execution_count": 42,
     "metadata": {},
     "output_type": "execute_result"
    }
   ],
   "source": [
    "df[df.concepts.str.contains('Alzheimer Disease')].concepts.value_counts()"
   ]
  },
  {
   "cell_type": "code",
   "execution_count": 43,
   "metadata": {},
   "outputs": [
    {
     "data": {
      "text/plain": [
       "Dementia    19\n",
       "Name: concepts, dtype: int64"
      ]
     },
     "execution_count": 43,
     "metadata": {},
     "output_type": "execute_result"
    }
   ],
   "source": [
    "df[df.concepts.str.contains('Dementia')].concepts.value_counts()"
   ]
  },
  {
   "cell_type": "code",
   "execution_count": 44,
   "metadata": {},
   "outputs": [],
   "source": [
    "df.concepts = df.concepts.replace('Alzheimer Disease','Alzheimer_Disease_Senile_Dementia',regex=False)"
   ]
  },
  {
   "cell_type": "code",
   "execution_count": 45,
   "metadata": {},
   "outputs": [],
   "source": [
    "df.concepts = df.concepts.replace('Dementia','Alzheimer_Disease_Senile_Dementia',regex=False)"
   ]
  },
  {
   "cell_type": "code",
   "execution_count": 46,
   "metadata": {},
   "outputs": [
    {
     "data": {
      "text/plain": [
       "Alzheimer_Disease_Senile_Dementia    23\n",
       "Name: concepts, dtype: int64"
      ]
     },
     "execution_count": 46,
     "metadata": {},
     "output_type": "execute_result"
    }
   ],
   "source": [
    "df[df.concepts.str.contains('Alzheimer_Disease_Senile_Dementia')].concepts.value_counts()"
   ]
  },
  {
   "cell_type": "markdown",
   "metadata": {},
   "source": [
    "#### A-13  Depression"
   ]
  },
  {
   "cell_type": "code",
   "execution_count": 47,
   "metadata": {},
   "outputs": [
    {
     "data": {
      "text/plain": [
       "Depression    13\n",
       "Name: concepts, dtype: int64"
      ]
     },
     "execution_count": 47,
     "metadata": {},
     "output_type": "execute_result"
    }
   ],
   "source": [
    "df[df.concepts.str.contains('Depression')].concepts.value_counts()"
   ]
  },
  {
   "cell_type": "markdown",
   "metadata": {},
   "source": [
    "#### A-14 Osteoporosis"
   ]
  },
  {
   "cell_type": "code",
   "execution_count": 48,
   "metadata": {},
   "outputs": [
    {
     "data": {
      "text/plain": [
       "Osteoporosis    5\n",
       "Name: concepts, dtype: int64"
      ]
     },
     "execution_count": 48,
     "metadata": {},
     "output_type": "execute_result"
    }
   ],
   "source": [
    "df[df.concepts.str.contains('Osteoporosis')].concepts.value_counts()"
   ]
  },
  {
   "cell_type": "markdown",
   "metadata": {},
   "source": [
    "#### A-15 Asthma"
   ]
  },
  {
   "cell_type": "code",
   "execution_count": 49,
   "metadata": {},
   "outputs": [
    {
     "data": {
      "text/plain": [
       "Asthma                      65\n",
       "Asthma, Exercise-Induced     2\n",
       "Name: concepts, dtype: int64"
      ]
     },
     "execution_count": 49,
     "metadata": {},
     "output_type": "execute_result"
    }
   ],
   "source": [
    "df[df.concepts.str.contains('Asthma')].concepts.value_counts()"
   ]
  },
  {
   "cell_type": "code",
   "execution_count": 50,
   "metadata": {},
   "outputs": [],
   "source": [
    "df.concepts = df.concepts.str.replace('.*Asthma.*','Asthma',regex=True)"
   ]
  },
  {
   "cell_type": "code",
   "execution_count": 51,
   "metadata": {},
   "outputs": [
    {
     "data": {
      "text/plain": [
       "Asthma    67\n",
       "Name: concepts, dtype: int64"
      ]
     },
     "execution_count": 51,
     "metadata": {},
     "output_type": "execute_result"
    }
   ],
   "source": [
    "df[df.concepts.str.contains('Asthma')].concepts.value_counts()"
   ]
  },
  {
   "cell_type": "markdown",
   "metadata": {},
   "source": [
    "#### A-16 Cancer"
   ]
  },
  {
   "cell_type": "code",
   "execution_count": 52,
   "metadata": {},
   "outputs": [],
   "source": [
    "# df22 contains list of terms referring to cancer\n",
    "df22 = pd.read_excel('./common_disease_list.xlsx',sheet_name='Sheet3')"
   ]
  },
  {
   "cell_type": "code",
   "execution_count": 53,
   "metadata": {},
   "outputs": [],
   "source": [
    "Cancer_word = '|'.join([word for word in df22.Cancer_Type])"
   ]
  },
  {
   "cell_type": "code",
   "execution_count": 54,
   "metadata": {},
   "outputs": [
    {
     "name": "stderr",
     "output_type": "stream",
     "text": [
      "/home/bitmman/anaconda3/lib/python3.7/site-packages/pandas/core/strings.py:1954: UserWarning: This pattern has match groups. To actually get the groups, use str.extract.\n",
      "  return func(self, *args, **kwargs)\n"
     ]
    },
    {
     "data": {
      "text/plain": [
       "Cancer                                                174\n",
       "Lymphoma                                               17\n",
       "Lung Cancer                                            16\n",
       "Prostate Cancer                                         4\n",
       "Breast Cancer                                           4\n",
       "Cancer of Skin                                          2\n",
       "Brain Cancer                                            2\n",
       "Cancer of the Uterine Cervix                            2\n",
       "Multiple Myeloma                                        2\n",
       "Lymphoma, Follicular|Lymphoma, Follicular, Grade 3      1\n",
       "Lymphoma, Mantle-Cell                                   1\n",
       "Cancer of Colon                                         1\n",
       "Basal Cell Cancer                                       1\n",
       "Melanoma                                                1\n",
       "Lymphoma, Large-Cell, Anaplastic                        1\n",
       "Urinary Bladder Cancer                                  1\n",
       "Cancer|Carcinoma in Situ                                1\n",
       "Name: concepts, dtype: int64"
      ]
     },
     "execution_count": 54,
     "metadata": {},
     "output_type": "execute_result"
    }
   ],
   "source": [
    "df[df.concepts.str.contains(Cancer_word)].concepts.value_counts()"
   ]
  },
  {
   "cell_type": "code",
   "execution_count": 55,
   "metadata": {},
   "outputs": [],
   "source": [
    "cancer_names = list(df[df.concepts.str.contains(Cancer_word)].concepts.value_counts().keys())"
   ]
  },
  {
   "cell_type": "code",
   "execution_count": 56,
   "metadata": {},
   "outputs": [],
   "source": [
    "df.concepts = df.concepts.str.replace(f'{Cancer_word}','**Cancer')"
   ]
  },
  {
   "cell_type": "code",
   "execution_count": 57,
   "metadata": {},
   "outputs": [],
   "source": [
    "df.concepts = df.concepts.str.replace('.*Cancer.*','**Cancer',regex=True)"
   ]
  },
  {
   "cell_type": "code",
   "execution_count": 58,
   "metadata": {},
   "outputs": [
    {
     "data": {
      "text/plain": [
       "**Cancer    231\n",
       "Name: concepts, dtype: int64"
      ]
     },
     "execution_count": 58,
     "metadata": {},
     "output_type": "execute_result"
    }
   ],
   "source": [
    "df[df.concepts.str.contains('Cancer')].concepts.value_counts()"
   ]
  },
  {
   "cell_type": "markdown",
   "metadata": {},
   "source": [
    "#### A-17 Stroke"
   ]
  },
  {
   "cell_type": "code",
   "execution_count": 59,
   "metadata": {},
   "outputs": [
    {
     "data": {
      "text/plain": [
       "Stroke           50\n",
       "Stroke, Acute     7\n",
       "Name: concepts, dtype: int64"
      ]
     },
     "execution_count": 59,
     "metadata": {},
     "output_type": "execute_result"
    }
   ],
   "source": [
    "df[df.concepts.str.contains('Stroke')].concepts.value_counts()"
   ]
  },
  {
   "cell_type": "code",
   "execution_count": 60,
   "metadata": {},
   "outputs": [],
   "source": [
    "df.concepts = df.concepts.str.replace('.*Stroke.*','**Stroke',regex=True)"
   ]
  },
  {
   "cell_type": "code",
   "execution_count": 61,
   "metadata": {},
   "outputs": [
    {
     "data": {
      "text/plain": [
       "**Stroke    57\n",
       "Name: concepts, dtype: int64"
      ]
     },
     "execution_count": 61,
     "metadata": {},
     "output_type": "execute_result"
    }
   ],
   "source": [
    "df[df.concepts.str.contains('Stroke')].concepts.value_counts()"
   ]
  },
  {
   "cell_type": "markdown",
   "metadata": {},
   "source": [
    "#### A-18 High_Cholesterol"
   ]
  },
  {
   "cell_type": "code",
   "execution_count": 62,
   "metadata": {},
   "outputs": [
    {
     "data": {
      "text/plain": [
       "Series([], Name: concepts, dtype: int64)"
      ]
     },
     "execution_count": 62,
     "metadata": {},
     "output_type": "execute_result"
    }
   ],
   "source": [
    "df[df.concepts.str.contains('High Cholesterol')].concepts.value_counts()"
   ]
  },
  {
   "cell_type": "code",
   "execution_count": 63,
   "metadata": {},
   "outputs": [],
   "source": [
    "df11 = df[df.eligibility_type == 'inclusion'].reset_index(drop=True)\n",
    "df12 = df[df.eligibility_type == 'exclusion'].reset_index(drop=True)"
   ]
  },
  {
   "cell_type": "markdown",
   "metadata": {},
   "source": [
    "## Part B"
   ]
  },
  {
   "cell_type": "code",
   "execution_count": 64,
   "metadata": {},
   "outputs": [
    {
     "data": {
      "text/html": [
       "<div>\n",
       "<style scoped>\n",
       "    .dataframe tbody tr th:only-of-type {\n",
       "        vertical-align: middle;\n",
       "    }\n",
       "\n",
       "    .dataframe tbody tr th {\n",
       "        vertical-align: top;\n",
       "    }\n",
       "\n",
       "    .dataframe thead th {\n",
       "        text-align: right;\n",
       "    }\n",
       "</style>\n",
       "<table border=\"1\" class=\"dataframe\">\n",
       "  <thead>\n",
       "    <tr style=\"text-align: right;\">\n",
       "      <th></th>\n",
       "      <th>Diseases</th>\n",
       "      <th>Disease_name</th>\n",
       "      <th>Concept</th>\n",
       "    </tr>\n",
       "  </thead>\n",
       "  <tbody>\n",
       "    <tr>\n",
       "      <th>0</th>\n",
       "      <td>Hypertension</td>\n",
       "      <td>Hypertension</td>\n",
       "      <td>Hypertension</td>\n",
       "    </tr>\n",
       "    <tr>\n",
       "      <th>1</th>\n",
       "      <td>Hyperlipidemia</td>\n",
       "      <td>Hyperlipidemia</td>\n",
       "      <td>Hyperlipidemia</td>\n",
       "    </tr>\n",
       "    <tr>\n",
       "      <th>2</th>\n",
       "      <td>Ischemic heart disease</td>\n",
       "      <td>Ischemic_heart_disease</td>\n",
       "      <td>Ischemic Heart Disease</td>\n",
       "    </tr>\n",
       "    <tr>\n",
       "      <th>3</th>\n",
       "      <td>Diabetes</td>\n",
       "      <td>Diabetes</td>\n",
       "      <td>Diabetes</td>\n",
       "    </tr>\n",
       "    <tr>\n",
       "      <th>4</th>\n",
       "      <td>Anemia</td>\n",
       "      <td>Anemia</td>\n",
       "      <td>Anemia</td>\n",
       "    </tr>\n",
       "    <tr>\n",
       "      <th>5</th>\n",
       "      <td>Chronic kidney disease</td>\n",
       "      <td>Chronic_kidney_disease</td>\n",
       "      <td>Chronic Kidney Diseases</td>\n",
       "    </tr>\n",
       "    <tr>\n",
       "      <th>6</th>\n",
       "      <td>Atrial fibrillation</td>\n",
       "      <td>Atrial_fibrillation</td>\n",
       "      <td>Atrial Fibrillation</td>\n",
       "    </tr>\n",
       "    <tr>\n",
       "      <th>7</th>\n",
       "      <td>Heart failure</td>\n",
       "      <td>Heart_failure</td>\n",
       "      <td>Heart Failure</td>\n",
       "    </tr>\n",
       "    <tr>\n",
       "      <th>8</th>\n",
       "      <td>COPD and bronchiectasis</td>\n",
       "      <td>COPD_bronchi</td>\n",
       "      <td>COPD_Bronchiectasis</td>\n",
       "    </tr>\n",
       "    <tr>\n",
       "      <th>9</th>\n",
       "      <td>Rheumatoid arthritis and Osteoarthritis</td>\n",
       "      <td>Rheumatoid_arthritis_osteoarthritis</td>\n",
       "      <td>Rheumatoid_Arthritis_Osteoarthritis</td>\n",
       "    </tr>\n",
       "    <tr>\n",
       "      <th>10</th>\n",
       "      <td>Acquired hypothyroidism</td>\n",
       "      <td>Hypothyroidism</td>\n",
       "      <td>Acquired Hypothyroidism</td>\n",
       "    </tr>\n",
       "    <tr>\n",
       "      <th>11</th>\n",
       "      <td>Alzheimer disease and related disorders\\nor se...</td>\n",
       "      <td>Alzheimer_disease_senile_dementia</td>\n",
       "      <td>Alzheimer_Disease_Senile_Dementia</td>\n",
       "    </tr>\n",
       "    <tr>\n",
       "      <th>12</th>\n",
       "      <td>Depression</td>\n",
       "      <td>Depression</td>\n",
       "      <td>Depression</td>\n",
       "    </tr>\n",
       "    <tr>\n",
       "      <th>13</th>\n",
       "      <td>Osteoporosis</td>\n",
       "      <td>Osteoporosis</td>\n",
       "      <td>Osteoporosis</td>\n",
       "    </tr>\n",
       "    <tr>\n",
       "      <th>14</th>\n",
       "      <td>Asthma</td>\n",
       "      <td>Asthma</td>\n",
       "      <td>Asthma</td>\n",
       "    </tr>\n",
       "    <tr>\n",
       "      <th>15</th>\n",
       "      <td>Cancer</td>\n",
       "      <td>Cancer</td>\n",
       "      <td>**Cancer</td>\n",
       "    </tr>\n",
       "    <tr>\n",
       "      <th>16</th>\n",
       "      <td>Stroke</td>\n",
       "      <td>Stroke</td>\n",
       "      <td>**Stroke</td>\n",
       "    </tr>\n",
       "    <tr>\n",
       "      <th>17</th>\n",
       "      <td>High Cholesterol</td>\n",
       "      <td>High Cholesterol</td>\n",
       "      <td>**High Cholesterol</td>\n",
       "    </tr>\n",
       "  </tbody>\n",
       "</table>\n",
       "</div>"
      ],
      "text/plain": [
       "                                             Diseases  \\\n",
       "0                                        Hypertension   \n",
       "1                                      Hyperlipidemia   \n",
       "2                              Ischemic heart disease   \n",
       "3                                            Diabetes   \n",
       "4                                              Anemia   \n",
       "5                              Chronic kidney disease   \n",
       "6                                 Atrial fibrillation   \n",
       "7                                       Heart failure   \n",
       "8                             COPD and bronchiectasis   \n",
       "9             Rheumatoid arthritis and Osteoarthritis   \n",
       "10                            Acquired hypothyroidism   \n",
       "11  Alzheimer disease and related disorders\\nor se...   \n",
       "12                                         Depression   \n",
       "13                                       Osteoporosis   \n",
       "14                                             Asthma   \n",
       "15                                             Cancer   \n",
       "16                                             Stroke   \n",
       "17                                   High Cholesterol   \n",
       "\n",
       "                           Disease_name                              Concept  \n",
       "0                          Hypertension                         Hypertension  \n",
       "1                        Hyperlipidemia                       Hyperlipidemia  \n",
       "2                Ischemic_heart_disease               Ischemic Heart Disease  \n",
       "3                              Diabetes                             Diabetes  \n",
       "4                                Anemia                               Anemia  \n",
       "5                Chronic_kidney_disease              Chronic Kidney Diseases  \n",
       "6                   Atrial_fibrillation                  Atrial Fibrillation  \n",
       "7                         Heart_failure                        Heart Failure  \n",
       "8                          COPD_bronchi                  COPD_Bronchiectasis  \n",
       "9   Rheumatoid_arthritis_osteoarthritis  Rheumatoid_Arthritis_Osteoarthritis  \n",
       "10                       Hypothyroidism              Acquired Hypothyroidism  \n",
       "11    Alzheimer_disease_senile_dementia    Alzheimer_Disease_Senile_Dementia  \n",
       "12                           Depression                           Depression  \n",
       "13                         Osteoporosis                         Osteoporosis  \n",
       "14                               Asthma                               Asthma  \n",
       "15                               Cancer                             **Cancer  \n",
       "16                               Stroke                             **Stroke  \n",
       "17                     High Cholesterol                   **High Cholesterol  "
      ]
     },
     "execution_count": 64,
     "metadata": {},
     "output_type": "execute_result"
    }
   ],
   "source": [
    "df21"
   ]
  },
  {
   "cell_type": "code",
   "execution_count": 65,
   "metadata": {},
   "outputs": [
    {
     "data": {
      "text/html": [
       "<div>\n",
       "<style scoped>\n",
       "    .dataframe tbody tr th:only-of-type {\n",
       "        vertical-align: middle;\n",
       "    }\n",
       "\n",
       "    .dataframe tbody tr th {\n",
       "        vertical-align: top;\n",
       "    }\n",
       "\n",
       "    .dataframe thead th {\n",
       "        text-align: right;\n",
       "    }\n",
       "</style>\n",
       "<table border=\"1\" class=\"dataframe\">\n",
       "  <thead>\n",
       "    <tr style=\"text-align: right;\">\n",
       "      <th></th>\n",
       "      <th>#nct_id</th>\n",
       "      <th>eligibility_type</th>\n",
       "      <th>criterion</th>\n",
       "      <th>label</th>\n",
       "      <th>term</th>\n",
       "      <th>ner_score</th>\n",
       "      <th>concepts</th>\n",
       "      <th>tree_numbers</th>\n",
       "      <th>nel_score</th>\n",
       "    </tr>\n",
       "  </thead>\n",
       "  <tbody>\n",
       "    <tr>\n",
       "      <th>0</th>\n",
       "      <td>NCT03042143</td>\n",
       "      <td>exclusion</td>\n",
       "      <td>Presence of any active malignancy (other than ...</td>\n",
       "      <td>word_scores:cancer</td>\n",
       "      <td>malignancy</td>\n",
       "      <td>0.990</td>\n",
       "      <td>**Cancer</td>\n",
       "      <td>C04</td>\n",
       "      <td>1.0</td>\n",
       "    </tr>\n",
       "    <tr>\n",
       "      <th>1</th>\n",
       "      <td>NCT03042143</td>\n",
       "      <td>exclusion</td>\n",
       "      <td>WHO Class III or IV pulmonary hypertension</td>\n",
       "      <td>word_scores:chronic_disease</td>\n",
       "      <td>hypertension</td>\n",
       "      <td>0.994</td>\n",
       "      <td>Hypertension</td>\n",
       "      <td>C14.907.489</td>\n",
       "      <td>1.0</td>\n",
       "    </tr>\n",
       "    <tr>\n",
       "      <th>2</th>\n",
       "      <td>NCT03891420</td>\n",
       "      <td>exclusion</td>\n",
       "      <td>Subject has severe immunosuppression or immuno...</td>\n",
       "      <td>word_scores:cancer</td>\n",
       "      <td>leukemia lymphoma thymic</td>\n",
       "      <td>0.894</td>\n",
       "      <td>**Cancer</td>\n",
       "      <td>C04.557.386|C15.604.515.569|C20.683.515.761</td>\n",
       "      <td>1.0</td>\n",
       "    </tr>\n",
       "    <tr>\n",
       "      <th>3</th>\n",
       "      <td>NCT03891420</td>\n",
       "      <td>exclusion</td>\n",
       "      <td>Congestive heart failure by medical history &gt;=...</td>\n",
       "      <td>word_scores:chronic_disease</td>\n",
       "      <td>congestive heart failure</td>\n",
       "      <td>0.978</td>\n",
       "      <td>Heart Failure</td>\n",
       "      <td>C14.280.434</td>\n",
       "      <td>1.0</td>\n",
       "    </tr>\n",
       "    <tr>\n",
       "      <th>4</th>\n",
       "      <td>NCT03963622</td>\n",
       "      <td>exclusion</td>\n",
       "      <td>Known or clinically suspected elevated intracr...</td>\n",
       "      <td>word_scores:clinical_variable</td>\n",
       "      <td>elevated intracranial pressure</td>\n",
       "      <td>0.857</td>\n",
       "      <td>Hypertension</td>\n",
       "      <td>C10.228.140.631</td>\n",
       "      <td>1.0</td>\n",
       "    </tr>\n",
       "  </tbody>\n",
       "</table>\n",
       "</div>"
      ],
      "text/plain": [
       "       #nct_id eligibility_type  \\\n",
       "0  NCT03042143        exclusion   \n",
       "1  NCT03042143        exclusion   \n",
       "2  NCT03891420        exclusion   \n",
       "3  NCT03891420        exclusion   \n",
       "4  NCT03963622        exclusion   \n",
       "\n",
       "                                           criterion  \\\n",
       "0  Presence of any active malignancy (other than ...   \n",
       "1         WHO Class III or IV pulmonary hypertension   \n",
       "2  Subject has severe immunosuppression or immuno...   \n",
       "3  Congestive heart failure by medical history >=...   \n",
       "4  Known or clinically suspected elevated intracr...   \n",
       "\n",
       "                           label                            term  ner_score  \\\n",
       "0             word_scores:cancer                      malignancy      0.990   \n",
       "1    word_scores:chronic_disease                    hypertension      0.994   \n",
       "2             word_scores:cancer        leukemia lymphoma thymic      0.894   \n",
       "3    word_scores:chronic_disease        congestive heart failure      0.978   \n",
       "4  word_scores:clinical_variable  elevated intracranial pressure      0.857   \n",
       "\n",
       "        concepts                                 tree_numbers  nel_score  \n",
       "0       **Cancer                                          C04        1.0  \n",
       "1   Hypertension                                  C14.907.489        1.0  \n",
       "2       **Cancer  C04.557.386|C15.604.515.569|C20.683.515.761        1.0  \n",
       "3  Heart Failure                                  C14.280.434        1.0  \n",
       "4   Hypertension                              C10.228.140.631        1.0  "
      ]
     },
     "execution_count": 65,
     "metadata": {},
     "output_type": "execute_result"
    }
   ],
   "source": [
    "df121 = df12[df12.concepts.isin(df21.Concept)].reset_index(drop=True)\n",
    "df121.head()"
   ]
  },
  {
   "cell_type": "code",
   "execution_count": 66,
   "metadata": {},
   "outputs": [
    {
     "data": {
      "text/plain": [
       "**Cancer                               171\n",
       "Heart Failure                           98\n",
       "Hypertension                            69\n",
       "Chronic Kidney Diseases                 67\n",
       "COPD_Bronchiectasis                     60\n",
       "Diabetes                                56\n",
       "Asthma                                  47\n",
       "**Stroke                                46\n",
       "Anemia                                  27\n",
       "Alzheimer_Disease_Senile_Dementia       22\n",
       "Atrial Fibrillation                     15\n",
       "Ischemic Heart Disease                  12\n",
       "Depression                              12\n",
       "Rheumatoid_Arthritis_Osteoarthritis     10\n",
       "Osteoporosis                             3\n",
       "Acquired Hypothyroidism                  2\n",
       "Name: concepts, dtype: int64"
      ]
     },
     "execution_count": 66,
     "metadata": {},
     "output_type": "execute_result"
    }
   ],
   "source": [
    "df121.concepts.value_counts()"
   ]
  },
  {
   "cell_type": "code",
   "execution_count": 67,
   "metadata": {},
   "outputs": [],
   "source": [
    "#This is to display common chronic disease with value 0\n",
    "dic = df121.concepts.value_counts()"
   ]
  },
  {
   "cell_type": "code",
   "execution_count": 68,
   "metadata": {},
   "outputs": [],
   "source": [
    "dic['**High Cholesterol'] = 0\n",
    "dic['Hyperlipidemia'] = 0"
   ]
  },
  {
   "cell_type": "code",
   "execution_count": 69,
   "metadata": {},
   "outputs": [
    {
     "data": {
      "text/plain": [
       "**Cancer                               171\n",
       "Heart Failure                           98\n",
       "Hypertension                            69\n",
       "Chronic Kidney Diseases                 67\n",
       "COPD_Bronchiectasis                     60\n",
       "Diabetes                                56\n",
       "Asthma                                  47\n",
       "**Stroke                                46\n",
       "Anemia                                  27\n",
       "Alzheimer_Disease_Senile_Dementia       22\n",
       "Atrial Fibrillation                     15\n",
       "Ischemic Heart Disease                  12\n",
       "Depression                              12\n",
       "Rheumatoid_Arthritis_Osteoarthritis     10\n",
       "Osteoporosis                             3\n",
       "Acquired Hypothyroidism                  2\n",
       "**High Cholesterol                       0\n",
       "Hyperlipidemia                           0\n",
       "Name: concepts, dtype: int64"
      ]
     },
     "execution_count": 69,
     "metadata": {},
     "output_type": "execute_result"
    }
   ],
   "source": [
    "dic"
   ]
  },
  {
   "cell_type": "code",
   "execution_count": 70,
   "metadata": {
    "scrolled": false
   },
   "outputs": [
    {
     "data": {
      "image/png": "[encoded data removed]",
      "text/plain": [
       "<Figure size 864x576 with 1 Axes>"
      ]
     },
     "metadata": {},
     "output_type": "display_data"
    }
   ],
   "source": [
    "fig1 = plt.figure(figsize=(12,8))\n",
    "dic.sort_values().plot.barh()\n",
    "plt.title('Number of studies using the chronic condition in the exclusion criteria')\n",
    "for i,v in enumerate(dic.sort_values()):\n",
    "    plt.text(v + 1, i , str(v), color = 'red')\n",
    "    plt.text(v + 9, i , (\"{:.2%}\".format(v/2031)), color = 'green')"
   ]
  },
  {
   "cell_type": "code",
   "execution_count": 71,
   "metadata": {},
   "outputs": [],
   "source": [
    "# fig1.savefig(\"./data/common_disease.png\", dpi=300, bbox_inches = \"tight\")"
   ]
  }
 ],
 "metadata": {
  "kernelspec": {
   "display_name": "Python 3",
   "language": "python",
   "name": "python3"
  },
  "language_info": {
   "codemirror_mode": {
    "name": "ipython",
    "version": 3
   },
   "file_extension": ".py",
   "mimetype": "text/x-python",
   "name": "python",
   "nbconvert_exporter": "python",
   "pygments_lexer": "ipython3",
   "version": "3.7.6"
  }
 },
 "nbformat": 4,
 "nbformat_minor": 4
}
